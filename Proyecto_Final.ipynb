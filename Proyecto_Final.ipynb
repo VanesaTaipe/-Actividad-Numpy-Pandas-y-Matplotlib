{
  "nbformat": 4,
  "nbformat_minor": 0,
  "metadata": {
    "colab": {
      "provenance": [],
      "include_colab_link": true
    },
    "kernelspec": {
      "name": "python3",
      "display_name": "Python 3"
    },
    "language_info": {
      "name": "python"
    }
  },
  "cells": [
    {
      "cell_type": "markdown",
      "metadata": {
        "id": "view-in-github",
        "colab_type": "text"
      },
      "source": [
        "<a href=\"https://colab.research.google.com/github/VanesaTaipe/-Actividad-Numpy-Pandas-y-Matplotlib/blob/main/Proyecto_Final.ipynb\" target=\"_parent\"><img src=\"https://colab.research.google.com/assets/colab-badge.svg\" alt=\"Open In Colab\"/></a>"
      ]
    },
    {
      "cell_type": "code",
      "execution_count": null,
      "metadata": {
        "id": "Dsz9SY6_wiHs"
      },
      "outputs": [],
      "source": [
        "#1\n",
        "!pip install catboost"
      ]
    },
    {
      "cell_type": "markdown",
      "source": [
        "# **Importación de los modulos y bibliotecas necesarios para el entrenamiento.**"
      ],
      "metadata": {
        "id": "8p7WsRjN_DGj"
      }
    },
    {
      "cell_type": "code",
      "source": [
        "#2\n",
        "import pandas as pd\n",
        "from sklearn.model_selection import train_test_split\n",
        "from sklearn.pipeline import Pipeline\n",
        "from sklearn.preprocessing import LabelEncoder, StandardScaler, OneHotEncoder\n",
        "from sklearn.compose import ColumnTransformer\n",
        "from sklearn.ensemble import GradientBoostingClassifier\n",
        "from catboost import CatBoostClassifier\n",
        "from sklearn.metrics import accuracy_score, classification_report\n",
        "from sklearn.model_selection import learning_curve\n",
        "import matplotlib.pyplot as plt"
      ],
      "metadata": {
        "id": "UvSe2BUO8a1t"
      },
      "execution_count": null,
      "outputs": []
    },
    {
      "cell_type": "markdown",
      "source": [
        "Se carga la base de datos desde la URL a un DataFrame, y las columnas se nombran se nombra segun la lista 'colum_naes'"
      ],
      "metadata": {
        "id": "OKyJJqTN_jPp"
      }
    },
    {
      "cell_type": "code",
      "source": [
        "#3\n",
        "# Descargar el conjunto de datos\n",
        "url = 'http://archive.ics.uci.edu/ml/machine-learning-databases/adult/adult.data'\n",
        "columns = ['age', 'workclass', 'fnlwgt', 'education', 'education-num', 'marital-status',\n",
        "           'occupation', 'relationship', 'race', 'sex', 'capital-gain', 'capital-loss',\n",
        "           'hours-per-week', 'native-country', 'income']\n",
        "data = pd.read_csv(url, names=columns)"
      ],
      "metadata": {
        "id": "bbk6FESR8avU"
      },
      "execution_count": null,
      "outputs": []
    },
    {
      "cell_type": "code",
      "source": [
        "#4\n",
        "# Descripción del conjunto de datos\n",
        "print(\"Descripción del conjunto de datos:\")\n",
        "print(data.head())"
      ],
      "metadata": {
        "id": "c4FCOMvl8aqW"
      },
      "execution_count": null,
      "outputs": []
    },
    {
      "cell_type": "code",
      "source": [
        "#5\n",
        "data.describe()"
      ],
      "metadata": {
        "id": "kRbYLMM38anP"
      },
      "execution_count": null,
      "outputs": []
    },
    {
      "cell_type": "code",
      "source": [
        "#6\n",
        "# Número y tipo de características\n",
        "print(\"Número y tipo de características:\")\n",
        "print(data.dtypes)"
      ],
      "metadata": {
        "id": "TdGMnUJk8akG"
      },
      "execution_count": null,
      "outputs": []
    },
    {
      "cell_type": "markdown",
      "source": [
        "En seccion se realiza el procesamiento de datos lo cual se se identifica las caracteristicas categoricas en los dato y creamos un transformador de columnas lo cual codifica estas caracteristicas."
      ],
      "metadata": {
        "id": "8lMq9mt-A3Ky"
      }
    },
    {
      "cell_type": "markdown",
      "source": [
        "# **Metodología**"
      ],
      "metadata": {
        "id": "GD1QCd42Aedf"
      }
    },
    {
      "cell_type": "code",
      "source": [
        "#7\n",
        "# Verificar qué columnas tienen datos faltantes\n",
        "fal_data = data.isnull().sum()\n",
        "print(fal_data)"
      ],
      "metadata": {
        "id": "ZrV1ZqEJ8ag_"
      },
      "execution_count": null,
      "outputs": []
    },
    {
      "cell_type": "code",
      "source": [
        "#8\n",
        "# Rellenar los datos faltantes con la palabra \"desconocido\"\n",
        "data = data.fillna(\"desconocido\")\n",
        "\n",
        "# Eliminar filas con datos faltantes\n",
        "#data = data.dropna()\n",
        "\n",
        "# Verificar qué columnas tienen datos faltantes después de la eliminación\n",
        "missing_data = data.isnull().sum()\n",
        "print(missing_data)"
      ],
      "metadata": {
        "id": "bqJ3nZCX8abo"
      },
      "execution_count": null,
      "outputs": []
    },
    {
      "cell_type": "markdown",
      "source": [
        "aquie separamos los datos en conjnto de caracterisiticas que es 'x' y mas el vector de objetivos 'y'. luego se didvide estos conjun to de datos en entrenamiento"
      ],
      "metadata": {
        "id": "Eg8jisknCQmO"
      }
    },
    {
      "cell_type": "code",
      "source": [
        "#9\n",
        "# Separar características (X) y variable objetivo (y)\n",
        "X = data.drop('income', axis=1)\n",
        "y = data['income']\n",
        "# Dividir en conjuntos de entrenamiento y prueba\n",
        "X_train, X_test, y_train, y_test = train_test_split(X, y, test_size=0.2, random_state=42)\n"
      ],
      "metadata": {
        "id": "AU5iDkVR8aQ-"
      },
      "execution_count": null,
      "outputs": []
    },
    {
      "cell_type": "code",
      "source": [
        "#10\n",
        "# Número de muestras en los conjuntos de entrenamiento y prueba\n",
        "print(\"Número de muestras de entrenamiento:\", len(X_train))\n",
        "print(\"Número de muestras de prueba:\", len(X_test))\n",
        "print(\"Número de muestras por clase:\")\n",
        "print(y_train.value_counts())"
      ],
      "metadata": {
        "id": "F1UM06sw8gIW"
      },
      "execution_count": null,
      "outputs": []
    },
    {
      "cell_type": "markdown",
      "source": [
        "*proecesamiento de datos*"
      ],
      "metadata": {
        "id": "8m0P2aTaC7bb"
      }
    },
    {
      "cell_type": "code",
      "source": [
        "#11\n",
        "### Procesamiento de datos\n",
        "# Selección y extracción de características\n",
        "print(\"Selección y extracción de características:\")\n",
        "# Columnas numéricas: aplicar escalado estándar\n",
        "# Columnas categóricas: aplicar codificación one-hot //convercion a binarios\n",
        "# Definir transformadores para características numéricas y categóricas\n",
        "numeric_features = ['age', 'fnlwgt', 'education-num', 'capital-gain', 'capital-loss', 'hours-per-week']\n",
        "numeric_transformer = StandardScaler()\n",
        "\n",
        "categorical_features = ['workclass', 'education', 'marital-status', 'occupation', 'relationship', 'race', 'sex', 'native-country']\n",
        "categorical_transformer = OneHotEncoder(handle_unknown='ignore')\n",
        "\n",
        "preprocessor = ColumnTransformer(\n",
        "    transformers=[\n",
        "        ('num', numeric_transformer, numeric_features),\n",
        "        ('cat', categorical_transformer, categorical_features)\n",
        "    ])\n"
      ],
      "metadata": {
        "id": "qS9_ZH_n8ftY"
      },
      "execution_count": null,
      "outputs": []
    },
    {
      "cell_type": "code",
      "source": [
        "#12"
      ],
      "metadata": {
        "id": "gZOlY_Oa8fd2"
      },
      "execution_count": null,
      "outputs": []
    },
    {
      "cell_type": "code",
      "source": [
        "#13\n",
        "# Crear el pipeline de preprocesamiento y modelado con Gradient Boosting\n",
        "pipeline_gb = Pipeline([\n",
        "    ('preprocessor', preprocessor),\n",
        "    ('classifier', GradientBoostingClassifier(random_state=42))\n",
        "])\n"
      ],
      "metadata": {
        "id": "zrw1L-1W8fUX"
      },
      "execution_count": null,
      "outputs": []
    },
    {
      "cell_type": "code",
      "source": [
        "#14\n",
        "# Entrenar y ajustar el modelo de Gradient Boosting\n",
        "pipeline_gb.fit(X_train, y_train)"
      ],
      "metadata": {
        "id": "SkrnMlrF8fL1"
      },
      "execution_count": null,
      "outputs": []
    },
    {
      "cell_type": "code",
      "source": [
        "#15"
      ],
      "metadata": {
        "id": "N3kiNH2d8fB4"
      },
      "execution_count": null,
      "outputs": []
    },
    {
      "cell_type": "code",
      "source": [
        "##16"
      ],
      "metadata": {
        "id": "96v6LLW58e52"
      },
      "execution_count": null,
      "outputs": []
    },
    {
      "cell_type": "code",
      "source": [
        "#17"
      ],
      "metadata": {
        "id": "eVLAoiPr8exW"
      },
      "execution_count": null,
      "outputs": []
    },
    {
      "cell_type": "code",
      "source": [
        "#18"
      ],
      "metadata": {
        "id": "vzhYeqEh8en6"
      },
      "execution_count": null,
      "outputs": []
    },
    {
      "cell_type": "code",
      "source": [
        "#19"
      ],
      "metadata": {
        "id": "ORT3YUO18ef3"
      },
      "execution_count": null,
      "outputs": []
    },
    {
      "cell_type": "code",
      "source": [
        "#20"
      ],
      "metadata": {
        "id": "-QCsfp6E8eX-"
      },
      "execution_count": null,
      "outputs": []
    },
    {
      "cell_type": "code",
      "source": [
        "#21"
      ],
      "metadata": {
        "id": "SinMJJ8Y8eP9"
      },
      "execution_count": null,
      "outputs": []
    },
    {
      "cell_type": "code",
      "source": [
        "#22"
      ],
      "metadata": {
        "id": "nzOK24Wl8eHF"
      },
      "execution_count": null,
      "outputs": []
    },
    {
      "cell_type": "code",
      "source": [
        "#23"
      ],
      "metadata": {
        "id": "oT5xfZni8d79"
      },
      "execution_count": null,
      "outputs": []
    },
    {
      "cell_type": "code",
      "source": [
        "#25"
      ],
      "metadata": {
        "id": "j0Pte6X88dw9"
      },
      "execution_count": null,
      "outputs": []
    },
    {
      "cell_type": "code",
      "source": [
        "#25"
      ],
      "metadata": {
        "id": "rPN0MOLx8dA8"
      },
      "execution_count": null,
      "outputs": []
    }
  ]
}