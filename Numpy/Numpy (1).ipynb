{
  "cells": [
    {
      "cell_type": "markdown",
      "metadata": {
        "id": "g5p1zhVdHRJH"
      },
      "source": [
        "## Numpy\n",
        "\n",
        "NumPy es la librería central para computación científica en Python. Proporciona un objeto de matriz multidimensional de alto rendimiento y herramientas para trabajar con estas matrices.\n",
        "\n",
        "#### Matrices\n",
        "\n",
        "Una matriz NumPy es una colección de valores de tipos de datos similares y está indexada por una tupla de números no negativos. El rango de la matriz es el número de dimensiones, y la forma de una matriz es una tupla de números que dan el tamaño de la matriz a lo largo de cada dimensión.\n"
      ]
    },
    {
      "cell_type": "code",
      "execution_count": 2,
      "metadata": {
        "id": "fEYOnETfqaMK",
        "colab": {
          "base_uri": "https://localhost:8080/"
        },
        "outputId": "0bae8c5c-5899-4d81-a2fd-127732799571"
      },
      "outputs": [
        {
          "output_type": "stream",
          "name": "stdout",
          "text": [
            "0.0003764629364013672 0.0010445117950439453\n",
            "0.3604199954348322\n"
          ]
        }
      ],
      "source": [
        "# Ejemplo\n",
        "from __future__ import division\n",
        "import time\n",
        "import numpy as np\n",
        "\n",
        "\n",
        "tam_vec = 1000\n",
        "def lista_python():\n",
        "    t1 = time.time()\n",
        "    X = range(tam_vec)\n",
        "    Y = range(tam_vec)\n",
        "    Z = []\n",
        "    for i in range(len(X)):\n",
        "        Z.append(X[i] + Y[i])\n",
        "    return time.time() - t1\n",
        "\n",
        "def matriz_numpy():\n",
        "    t1 = time.time()\n",
        "    X = np.arange(tam_vec)\n",
        "    Y = np.arange(tam_vec)\n",
        "    Z = X + Y\n",
        "    return time.time() - t1\n",
        "t1=lista_python()\n",
        "t2=matriz_numpy()\n",
        "print(t1, t2)\n",
        "print(\"\"+str(t1/t2))"
      ]
    },
    {
      "cell_type": "code",
      "execution_count": 3,
      "metadata": {
        "id": "OufDp2ReqaMM",
        "colab": {
          "base_uri": "https://localhost:8080/",
          "height": 36
        },
        "outputId": "92d18492-1087-43bb-9c55-9ccb6868491a"
      },
      "outputs": [
        {
          "output_type": "execute_result",
          "data": {
            "text/plain": [
              "'1.22.4'"
            ],
            "application/vnd.google.colaboratory.intrinsic+json": {
              "type": "string"
            }
          },
          "metadata": {},
          "execution_count": 3
        }
      ],
      "source": [
        "import numpy\n",
        "numpy.__version__"
      ]
    },
    {
      "cell_type": "markdown",
      "metadata": {
        "id": "BhyocdoIqaMM"
      },
      "source": [
        "Podemos inicializar matrices NumPy a partir de listas de Python anidadas y acceder a los elementos mediante corchetes."
      ]
    },
    {
      "cell_type": "code",
      "execution_count": 4,
      "metadata": {
        "id": "oV13ZLdhqaMN",
        "colab": {
          "base_uri": "https://localhost:8080/"
        },
        "outputId": "dde82b89-edad-4cae-efdf-cc7468617080"
      },
      "outputs": [
        {
          "output_type": "stream",
          "name": "stdout",
          "text": [
            "<class 'numpy.ndarray'>\n",
            "(3,)\n",
            "0\n",
            "1\n",
            "2\n",
            "[5 1 2]\n"
          ]
        }
      ],
      "source": [
        "import numpy as np\n",
        "\n",
        "# Creamos una matriz de rango 1\n",
        "a = np.array([0, 1, 2])\n",
        "print (type(a))\n",
        "\n",
        "# Imprimimos la dimension de la matriz\n",
        "print (a.shape)\n",
        "print (a[0])\n",
        "print (a[1])\n",
        "print (a[2])\n",
        "\n",
        "# Cambiamos un elemento de un array\n",
        "a[0] = 5\n",
        "print (a)"
      ]
    },
    {
      "cell_type": "code",
      "execution_count": 6,
      "metadata": {
        "id": "AM3wLIGFqaMN",
        "colab": {
          "base_uri": "https://localhost:8080/"
        },
        "outputId": "65d4d3e2-0cc3-4968-8d57-011e18372ed5"
      },
      "outputs": [
        {
          "output_type": "stream",
          "name": "stdout",
          "text": [
            "(2, 3)\n",
            "[[0 1 2]\n",
            " [3 4 5]]\n",
            "0 1 3\n"
          ]
        }
      ],
      "source": [
        "# Creamos una matriz de rango 2\n",
        "b = np.array([[0,1,2],[3,4,5]])\n",
        "print (b.shape)\n",
        "print (b)\n",
        "print (b[0, 0], b[0, 1], b[1, 0])"
      ]
    },
    {
      "cell_type": "code",
      "execution_count": 7,
      "metadata": {
        "id": "cq2gOFB4qaMO",
        "colab": {
          "base_uri": "https://localhost:8080/"
        },
        "outputId": "0e6babcb-ac98-461a-b85d-565aac378904"
      },
      "outputs": [
        {
          "output_type": "stream",
          "name": "stdout",
          "text": [
            "(2, 3)\n",
            "0 1 3\n"
          ]
        }
      ],
      "source": [
        "print ( b.shape)\n",
        "print ( b[0, 0], b[0, 1], b[1, 0])"
      ]
    },
    {
      "cell_type": "markdown",
      "metadata": {
        "id": "pNtk4_8UqaMO"
      },
      "source": [
        "### Creación de una matriz NumPy\n",
        "\n",
        "NumPy también proporciona muchas funciones integradas para crear matrices. La mejor manera de aprender esto es a través de ejemplos, así que pasemos al código."
      ]
    },
    {
      "cell_type": "code",
      "execution_count": 8,
      "metadata": {
        "id": "NyYKtrrGqaMP",
        "colab": {
          "base_uri": "https://localhost:8080/"
        },
        "outputId": "45bd2b8b-1302-490f-f543-001e4d77fcbe"
      },
      "outputs": [
        {
          "output_type": "stream",
          "name": "stdout",
          "text": [
            "[[0. 0. 0.]\n",
            " [0. 0. 0.]\n",
            " [0. 0. 0.]]\n"
          ]
        }
      ],
      "source": [
        "# Creamos una matriz 3x3 de todos ceros\n",
        "a = np.zeros((3,3))\n",
        "print (a)"
      ]
    },
    {
      "cell_type": "code",
      "execution_count": 9,
      "metadata": {
        "id": "mCLST8l6qaMQ",
        "colab": {
          "base_uri": "https://localhost:8080/"
        },
        "outputId": "861c72ff-3bd8-4a58-b3c0-0d2acb44e742"
      },
      "outputs": [
        {
          "output_type": "stream",
          "name": "stdout",
          "text": [
            "[[1. 1.]\n",
            " [1. 1.]]\n"
          ]
        }
      ],
      "source": [
        "# Creamos una matriz 2x2 de todos 1\n",
        "b = np.ones((2,2))\n",
        "print (b)"
      ]
    },
    {
      "cell_type": "code",
      "execution_count": 10,
      "metadata": {
        "id": "6CJQKnPbqaMQ",
        "colab": {
          "base_uri": "https://localhost:8080/"
        },
        "outputId": "8581237d-53cc-4583-b464-79f733e34884"
      },
      "outputs": [
        {
          "output_type": "stream",
          "name": "stdout",
          "text": [
            "[[7 7 7]\n",
            " [7 7 7]\n",
            " [7 7 7]]\n"
          ]
        }
      ],
      "source": [
        "# Creamos una matriz 3x3 constantes\n",
        "c = np.full((3,3), 7)\n",
        "print(c)"
      ]
    },
    {
      "cell_type": "code",
      "execution_count": 11,
      "metadata": {
        "id": "6WrXOZLfqaMR",
        "colab": {
          "base_uri": "https://localhost:8080/"
        },
        "outputId": "925253c6-c6bc-481d-dc73-597c40f6ff1b"
      },
      "outputs": [
        {
          "output_type": "stream",
          "name": "stdout",
          "text": [
            "[[0.55848483 0.19532521 0.64115609]\n",
            " [0.15504439 0.8472937  0.07443851]\n",
            " [0.24086763 0.36671452 0.86280291]]\n"
          ]
        }
      ],
      "source": [
        "# Creamos una matriz 3x3 con valores aleatorios\n",
        "d = np.random.random((3,3))\n",
        "print (d)"
      ]
    },
    {
      "cell_type": "code",
      "execution_count": 12,
      "metadata": {
        "id": "2Fh7ah1dqaMR",
        "colab": {
          "base_uri": "https://localhost:8080/"
        },
        "outputId": "601b681b-dcb8-4cd9-ebe4-56140d804370"
      },
      "outputs": [
        {
          "output_type": "stream",
          "name": "stdout",
          "text": [
            "[[1. 0. 0.]\n",
            " [0. 1. 0.]\n",
            " [0. 0. 1.]]\n"
          ]
        }
      ],
      "source": [
        "# Creamos una matriz identidad 3x3\n",
        "e = np.eye(3)\n",
        "print(e)"
      ]
    },
    {
      "cell_type": "code",
      "execution_count": 13,
      "metadata": {
        "id": "3Z4n3uJbqaMR",
        "colab": {
          "base_uri": "https://localhost:8080/"
        },
        "outputId": "d6cd79ce-b32e-4f8e-f7e2-3e6571f94443"
      },
      "outputs": [
        {
          "output_type": "stream",
          "name": "stdout",
          "text": [
            "[2 3 1 0]\n"
          ]
        }
      ],
      "source": [
        "# Convertir una lista en una matriz\n",
        "f = np.array([2, 3, 1,0])\n",
        "print(f)"
      ]
    },
    {
      "cell_type": "code",
      "execution_count": 15,
      "metadata": {
        "id": "tET5xDZ6qaMR",
        "colab": {
          "base_uri": "https://localhost:8080/"
        },
        "outputId": "605e27f0-e470-45bd-bd3d-4f407562d8b0"
      },
      "outputs": [
        {
          "output_type": "execute_result",
          "data": {
            "text/plain": [
              "array([1, 2, 3, 4, 5, 6, 7, 8])"
            ]
          },
          "metadata": {},
          "execution_count": 15
        }
      ],
      "source": [
        "# arange() crea matrices con valores que se incrementan regularmente\n",
        "# Completar\n",
        "a=np.arange(1,9)\n",
        "a"
      ]
    },
    {
      "cell_type": "code",
      "execution_count": 17,
      "metadata": {
        "id": "RuGyOhkKqaMS",
        "colab": {
          "base_uri": "https://localhost:8080/"
        },
        "outputId": "39840892-3bbe-4b28-f21a-7b4ac2bb51a1"
      },
      "outputs": [
        {
          "output_type": "stream",
          "name": "stdout",
          "text": [
            "[1, 2, 3, 4, 5, 6]\n"
          ]
        }
      ],
      "source": [
        "# Mezcla de tupla y listas\n",
        "mi_tupla = (1, 2, 3)\n",
        "mi_lista = [4, 5, 6]\n",
        "tupla_convertida = list(mi_tupla)\n",
        "tupla_convertida.extend(mi_lista)\n",
        "print(tupla_convertida)\n",
        "\n"
      ]
    },
    {
      "cell_type": "code",
      "execution_count": 18,
      "metadata": {
        "id": "Qqm5sInQqaMS",
        "colab": {
          "base_uri": "https://localhost:8080/"
        },
        "outputId": "f92e63f2-7fc6-4a1d-a4e1-5bbe58566371"
      },
      "outputs": [
        {
          "output_type": "stream",
          "name": "stdout",
          "text": [
            "[1. 2. 3. 4. 5. 6. 7.]\n"
          ]
        }
      ],
      "source": [
        "# Crear una matriz de rango con tipo de datos flotante\n",
        "i = np.arange(1, 8, dtype=np.float64)\n",
        "print(i)"
      ]
    },
    {
      "cell_type": "markdown",
      "metadata": {
        "id": "Ee1Sko4QqaMS"
      },
      "source": [
        "`linspace()`  crea matrices con un numero especifico de elementos que están espaciados por igual entre los valores inicial y final especificados"
      ]
    },
    {
      "cell_type": "code",
      "execution_count": 21,
      "metadata": {
        "id": "nHza6HfaqaMT",
        "colab": {
          "base_uri": "https://localhost:8080/"
        },
        "outputId": "370a44fa-c599-4061-8e0f-da2ea69691d7"
      },
      "outputs": [
        {
          "output_type": "execute_result",
          "data": {
            "text/plain": [
              "array([ 1.,  2.,  3.,  4.,  5.,  6.,  7.,  8.,  9., 10.])"
            ]
          },
          "metadata": {},
          "execution_count": 21
        }
      ],
      "source": [
        "matriz = np.linspace(start=1,stop=10,num=10)\n",
        "matriz"
      ]
    },
    {
      "cell_type": "markdown",
      "metadata": {
        "id": "FhxDR-cfqaMT"
      },
      "source": [
        "### Tipos de datos\n",
        "Una matriz es una colección de elementos del mismo tipo de datos y NumPy admite y proporciona funciones integradas para construir matrices con argumentos opcionales para especificar explícitamente los tipos de datos requeridos."
      ]
    },
    {
      "cell_type": "code",
      "execution_count": 22,
      "metadata": {
        "id": "Um_OqxjPqaMT",
        "colab": {
          "base_uri": "https://localhost:8080/"
        },
        "outputId": "bb44ac12-4108-49f6-d70d-a06a7108d7ee"
      },
      "outputs": [
        {
          "output_type": "stream",
          "name": "stdout",
          "text": [
            "int64 float64 int64\n"
          ]
        }
      ],
      "source": [
        "# Numpy escoge el tipo de datos\n",
        "x = np.array([0, 1])\n",
        "y = np.array([2.0, 3.0])\n",
        "\n",
        "# Fuerza un tipo de datos en particular\n",
        "z = np.array([5, 6], dtype=np.int64)\n",
        "print (x.dtype, y.dtype, z.dtype)"
      ]
    },
    {
      "cell_type": "markdown",
      "metadata": {
        "id": "-lRfXcA7qaMT"
      },
      "source": [
        "**Ejercicio** Completa el siguiente  código."
      ]
    },
    {
      "cell_type": "code",
      "execution_count": 25,
      "metadata": {
        "id": "5ZJRGP7BqaMT",
        "colab": {
          "base_uri": "https://localhost:8080/"
        },
        "outputId": "6427beaa-f1c1-4500-d423-615b267c5aa4"
      },
      "outputs": [
        {
          "output_type": "stream",
          "name": "stdout",
          "text": [
            "Atributos:\n",
            "x1 - dim: 1 shape: (6,) size: 6 dtype: int64 itemsize: 8 nbytes: 48\n",
            "x2 - dim: 2 shape: (5, 4) size: 20 dtype: int64 itemsize: 8 nbytes: 160\n",
            "x3 - dim: 3 shape: (2, 4, 5) size: 40 dtype: int64 itemsize: 8 nbytes: 320\n"
          ]
        }
      ],
      "source": [
        "np.random.seed(0)\n",
        "\n",
        "x1 = np.random.randint(10, size=6)  # matriz 1-d\n",
        "x2 = np.random.randint(10, size=(5, 4))  # matriz-2d\n",
        "x3 = np.random.randint(10, size=(2, 4, 5)) # matriz-3d\n",
        "\n",
        "# Imprime los atributos : dim, shape, size, dtype, itemsize y nbytes\n",
        "print(\"Atributos:\")\n",
        "print(\"x1 - dim:\", x1.ndim, \"shape:\", x1.shape, \"size:\", x1.size, \"dtype:\", x1.dtype, \"itemsize:\", x1.itemsize, \"nbytes:\", x1.nbytes)\n",
        "print(\"x2 - dim:\", x2.ndim, \"shape:\", x2.shape, \"size:\", x2.size, \"dtype:\", x2.dtype, \"itemsize:\", x2.itemsize, \"nbytes:\", x2.nbytes)\n",
        "print(\"x3 - dim:\", x3.ndim, \"shape:\", x3.shape, \"size:\", x3.size, \"dtype:\", x3.dtype, \"itemsize:\", x3.itemsize, \"nbytes:\", x3.nbytes)"
      ]
    },
    {
      "cell_type": "markdown",
      "metadata": {
        "id": "hHdZuIRlqaMU"
      },
      "source": [
        "### Indexación de matrices\n",
        "\n",
        "NumPy ofrece varias formas de indexar en matrices. La sintaxis estándar de Python `x[obj]` se puede usar para indexar la matriz NumPy, donde `x` es la matriz y `obj` es la selección.\n",
        "\n",
        "Hay tres tipos de indexación disponibles:\n",
        "\n",
        "* Acceso al campo\n",
        "\n",
        "* Recorte básico\n",
        "\n",
        "* Indexación avanzada\n",
        "\n",
        "#### Acceso al campo\n",
        "\n",
        "Si el objeto ndarray es una matriz estructurada, se puede acceder a los campos de la matriz indexando la matriz con cadenas, como un diccionario. La indexación de `x['field-name']` devuelve una nueva vista de la matriz, que tiene la misma dimensión que `x`, excepto cuando el campo es una submatriz  que contiene sólo la parte de los datos en el campo especificado. Los tipos de datos se obtienen con `x.dtype['field-name']`."
      ]
    },
    {
      "cell_type": "code",
      "execution_count": 26,
      "metadata": {
        "id": "OPuRiaI0qaMU",
        "colab": {
          "base_uri": "https://localhost:8080/"
        },
        "outputId": "b5581c13-071c-4cf4-8571-3dac2fae864a"
      },
      "outputs": [
        {
          "output_type": "stream",
          "name": "stdout",
          "text": [
            "[[(0, [[0., 0., 0.], [0., 0., 0.], [0., 0., 0.]])\n",
            "  (0, [[0., 0., 0.], [0., 0., 0.], [0., 0., 0.]])\n",
            "  (0, [[0., 0., 0.], [0., 0., 0.], [0., 0., 0.]])]\n",
            " [(0, [[0., 0., 0.], [0., 0., 0.], [0., 0., 0.]])\n",
            "  (0, [[0., 0., 0.], [0., 0., 0.], [0., 0., 0.]])\n",
            "  (0, [[0., 0., 0.], [0., 0., 0.], [0., 0., 0.]])]\n",
            " [(0, [[0., 0., 0.], [0., 0., 0.], [0., 0., 0.]])\n",
            "  (0, [[0., 0., 0.], [0., 0., 0.], [0., 0., 0.]])\n",
            "  (0, [[0., 0., 0.], [0., 0., 0.], [0., 0., 0.]])]]\n"
          ]
        }
      ],
      "source": [
        "x = np.zeros((3,3), dtype=[('a', np.int32), ('b', np.float64, (3,3))])\n",
        "print(x)"
      ]
    },
    {
      "cell_type": "code",
      "execution_count": 27,
      "metadata": {
        "id": "qn7yP1DDqaMU",
        "colab": {
          "base_uri": "https://localhost:8080/"
        },
        "outputId": "9329c782-6179-4763-bc5d-db97cbcc6e62"
      },
      "outputs": [
        {
          "output_type": "stream",
          "name": "stdout",
          "text": [
            "x['a'].shape:  (3, 3)\n",
            "x['a'].dtype:  int32\n",
            "x['b'].shape:  (3, 3, 3, 3)\n",
            "x['b'].dtype:  float64\n"
          ]
        }
      ],
      "source": [
        "print (\"x['a'].shape: \",x['a'].shape)\n",
        "print (\"x['a'].dtype: \", x['a'].dtype)\n",
        "\n",
        "print (\"x['b'].shape: \", x['b'].shape)\n",
        "print (\"x['b'].dtype: \", x['b'].dtype)"
      ]
    },
    {
      "cell_type": "markdown",
      "metadata": {
        "id": "CFyYL7BHqaMU"
      },
      "source": [
        "#### Recorte básico\n",
        "\n",
        "Las matrices NumPy se pueden dividir, de forma similar a las listas. Debe especificar un segmento para cada dimensión de la matriz, ya que las matrices pueden ser multidimensionales.\n",
        "\n",
        "La sintaxis de división básica es `i: j: k`, donde `i` es el índice inicial, `j` es el índice final, `k` es el paso y `k` no es igual a 0. Esto selecciona los elementos `m` en la dimensión correspondiente, con valores de índice `, i + k, ...,i + (m - 1)k` donde `m = q + (r distinto de 0)`,  `q` y `r` son el cociente y el resto se obtiene dividiendo `j - i` entre `k`: `j - i = qk + r`, de modo que `i + (m - 1) k < j`."
      ]
    },
    {
      "cell_type": "code",
      "execution_count": 28,
      "metadata": {
        "id": "gXlzcajJqaMV",
        "colab": {
          "base_uri": "https://localhost:8080/"
        },
        "outputId": "adc9e772-72bc-4337-c972-009d3ffd153d"
      },
      "outputs": [
        {
          "output_type": "execute_result",
          "data": {
            "text/plain": [
              "array([6, 8])"
            ]
          },
          "metadata": {},
          "execution_count": 28
        }
      ],
      "source": [
        "x = np.array([5, 6, 7, 8, 9])\n",
        "x[1:7:2]"
      ]
    },
    {
      "cell_type": "markdown",
      "metadata": {
        "id": "-NhBkQkcqaMV"
      },
      "source": [
        "La `k` negativa hace que los pasos vayan hacia índices más pequeños. Los `i` y `j` negativos se interpretan como `n + i` y `n + j` donde `n` es el número de elementos en la dimensión correspondiente."
      ]
    },
    {
      "cell_type": "code",
      "execution_count": 29,
      "metadata": {
        "id": "gf66zIIFqaMV",
        "colab": {
          "base_uri": "https://localhost:8080/"
        },
        "outputId": "959abb49-3dce-4e3d-cbb4-599246c3ec94"
      },
      "outputs": [
        {
          "output_type": "stream",
          "name": "stdout",
          "text": [
            "[8 9]\n",
            "[9 8 7]\n"
          ]
        }
      ],
      "source": [
        "print (x[-2:5])\n",
        "print (x[-1:1:-1])"
      ]
    },
    {
      "cell_type": "markdown",
      "metadata": {
        "id": "ZZN6H4gfqaMV"
      },
      "source": [
        "Si `n` es el número de elementos en la dimensión que se está recortando. Entonces, si no se proporciona `i`, el valor predeterminado es `0` para  `k > 0` y `n-1` para `k < 0`. Si no se proporciona `j`, el valor predeterminado es `n` para `k > 0` y `-1` para `k < 0`. Si no se proporciona `k`, el valor predeterminado es `1`. Ten en cuenta que `::` es lo mismo que `:` y significa seleccionar todos los índices a lo largo de este eje."
      ]
    },
    {
      "cell_type": "code",
      "execution_count": 30,
      "metadata": {
        "id": "P4aUAvZDqaMV",
        "colab": {
          "base_uri": "https://localhost:8080/"
        },
        "outputId": "4193632c-c1bb-4576-bf27-3f8b158ca76d"
      },
      "outputs": [
        {
          "output_type": "execute_result",
          "data": {
            "text/plain": [
              "array([9])"
            ]
          },
          "metadata": {},
          "execution_count": 30
        }
      ],
      "source": [
        "x[4:]"
      ]
    },
    {
      "cell_type": "markdown",
      "metadata": {
        "id": "LHGoBk77qaMW"
      },
      "source": [
        "Si el número de objetos en la tupla de selección es menor que N , entonces se asume `:` para cualquier dimensión subsiguiente."
      ]
    },
    {
      "cell_type": "code",
      "execution_count": 31,
      "metadata": {
        "id": "gGBsOVcTqaMW",
        "colab": {
          "base_uri": "https://localhost:8080/"
        },
        "outputId": "0891ce97-704d-4fb9-d8ea-4fe47031aa43"
      },
      "outputs": [
        {
          "output_type": "execute_result",
          "data": {
            "text/plain": [
              "array([5, 6, 7, 8])"
            ]
          },
          "metadata": {},
          "execution_count": 31
        }
      ],
      "source": [
        "x[:-1]"
      ]
    },
    {
      "cell_type": "markdown",
      "metadata": {
        "id": "kWkK2ssnqaMW"
      },
      "source": [
        "Los puntos suspensivos se expanden al número de : objetos necesarios para hacer una tupla de selección de la misma longitud que `x.ndim`. Solo puede haber una sola elipsis presente."
      ]
    },
    {
      "cell_type": "code",
      "execution_count": 32,
      "metadata": {
        "id": "9EhQ_hm1qaMW",
        "colab": {
          "base_uri": "https://localhost:8080/"
        },
        "outputId": "a36b2e75-5c2c-4e31-9a50-2d819b06771f"
      },
      "outputs": [
        {
          "output_type": "stream",
          "name": "stdout",
          "text": [
            "[5 6 7 8 9]\n"
          ]
        }
      ],
      "source": [
        "print(x)"
      ]
    },
    {
      "cell_type": "code",
      "execution_count": 33,
      "metadata": {
        "id": "L36IfJr7qaMX",
        "colab": {
          "base_uri": "https://localhost:8080/"
        },
        "outputId": "7f509086-816e-48d6-9191-ef49075b2287"
      },
      "outputs": [
        {
          "output_type": "execute_result",
          "data": {
            "text/plain": [
              "array(5)"
            ]
          },
          "metadata": {},
          "execution_count": 33
        }
      ],
      "source": [
        "x[...,0]"
      ]
    },
    {
      "cell_type": "markdown",
      "metadata": {
        "id": "HroUqdKDqaMX"
      },
      "source": [
        "#### Ejercicio\n",
        "\n",
        "1. Crea una matriz de rango `2` con dimension `(3, 4)`\n",
        "\n",
        "2. Usa el recorte para extraer la submatriz que consta de las primeras `2` filas y las columnas `1` y `2`.\n",
        "\n",
        "3. Una parte de una matriz es solo una vista de los mismos datos, comprueba quecualquier modificación modificará la matriz original.\n",
        "\n"
      ]
    },
    {
      "cell_type": "code",
      "execution_count": 37,
      "metadata": {
        "id": "SO70Y-ssqaMX",
        "colab": {
          "base_uri": "https://localhost:8080/"
        },
        "outputId": "a23af183-e3b4-44f4-a8a3-c04a7ef65d25"
      },
      "outputs": [
        {
          "output_type": "stream",
          "name": "stdout",
          "text": [
            "[[ 1  2  3  4]\n",
            " [ 5  6  7  8]\n",
            " [ 9 10 11 12]]\n"
          ]
        }
      ],
      "source": [
        "#Crea una matriz de rango 2 con dimension (3, 4)\n",
        "c= np.array([[1,2,3,4], [5,6,7,8], [9,10,11,12]])\n",
        "print (c)"
      ]
    },
    {
      "cell_type": "code",
      "source": [
        "#Usa el recorte para extraer la submatriz que consta de las primeras 2 filas y las columnas 1 y 2\n",
        "sub = c[:2, 1:3]\n",
        "sub"
      ],
      "metadata": {
        "colab": {
          "base_uri": "https://localhost:8080/"
        },
        "id": "8cq4yaH-C8wz",
        "outputId": "82b0f032-5b77-4148-ca8d-594a00b7d209"
      },
      "execution_count": 39,
      "outputs": [
        {
          "output_type": "execute_result",
          "data": {
            "text/plain": [
              "array([[2, 3],\n",
              "       [6, 7]])"
            ]
          },
          "metadata": {},
          "execution_count": 39
        }
      ]
    },
    {
      "cell_type": "code",
      "source": [
        "#Una parte de una matriz es solo una vista de los mismos datos, comprueba quecualquier modificación modificará la matriz original.\n",
        "sub[0, 0] = 99\n",
        "sub"
      ],
      "metadata": {
        "colab": {
          "base_uri": "https://localhost:8080/"
        },
        "id": "xecK6lfWDRKv",
        "outputId": "b7ee493d-b3c5-4f50-95d4-97c360038223"
      },
      "execution_count": 41,
      "outputs": [
        {
          "output_type": "execute_result",
          "data": {
            "text/plain": [
              "array([[99,  3],\n",
              "       [ 6,  7]])"
            ]
          },
          "metadata": {},
          "execution_count": 41
        }
      ]
    },
    {
      "cell_type": "markdown",
      "metadata": {
        "id": "Pw-VG8JqqaMX"
      },
      "source": [
        "Se puede acceder a la matriz de la fila central de dos maneras.\n",
        "\n",
        "* Las partes junto con la indexación de enteros darán como resultado una matriz de rango inferior.\n",
        "\n",
        "* El uso de solo recortes dará como resultado el mismo rango matriz."
      ]
    },
    {
      "cell_type": "code",
      "execution_count": 35,
      "metadata": {
        "id": "W1ddrRz4qaMY",
        "colab": {
          "base_uri": "https://localhost:8080/"
        },
        "outputId": "982a16b2-b522-4832-b7e3-56a410c59f62"
      },
      "outputs": [
        {
          "output_type": "stream",
          "name": "stdout",
          "text": [
            "[[ 1  2  3  4]\n",
            " [ 5  6  7  8]\n",
            " [ 9 10 11 12]]\n"
          ]
        }
      ],
      "source": [
        "# Creamos una matriz de rango 2 array con dimensión (3, 4)\n",
        "a = np.array([[1,2,3,4], [5,6,7,8], [9,10,11,12]])\n",
        "print (a)"
      ]
    },
    {
      "cell_type": "markdown",
      "metadata": {
        "id": "LYSx-APpqaMY"
      },
      "source": [
        "Dos formas de acceder a los datos en la fila central de la matriz. La combinación de la indexación de enteros con recortes produce una matriz de menor rango, mientras que el uso de solo recortes produce una matriz del mismo rango que la matriz original:"
      ]
    },
    {
      "cell_type": "code",
      "execution_count": 42,
      "metadata": {
        "id": "c3xFq81hqaMY",
        "colab": {
          "base_uri": "https://localhost:8080/"
        },
        "outputId": "fc617297-d8ea-479d-cb91-eb4f70c08473"
      },
      "outputs": [
        {
          "output_type": "stream",
          "name": "stdout",
          "text": [
            "[5 6 7 8] (4,)\n",
            "[[5 6 7 8]] (1, 4)\n",
            "[[5 6 7 8]] (1, 4)\n"
          ]
        }
      ],
      "source": [
        "fila_r1 = a[1, :]    # Vista de rango 1 de la segunda fila de a\n",
        "fila_r2 = a[1:2, :]  # Vista de rango 2 de la segunda fila de a\n",
        "fila_r3 = a[[1], :]  # Vista de ranfo 2 de la segunda fila de a\n",
        "print (fila_r1, fila_r1.shape)\n",
        "print (fila_r2, fila_r2.shape)\n",
        "print (fila_r3, fila_r3.shape)"
      ]
    },
    {
      "cell_type": "markdown",
      "metadata": {
        "id": "iYqVtaD6qaMY"
      },
      "source": [
        "Podemos hacer la misma distinción al acceder a las columnas de una matriz."
      ]
    },
    {
      "cell_type": "code",
      "execution_count": 43,
      "metadata": {
        "id": "PJAluA4FqaMY",
        "colab": {
          "base_uri": "https://localhost:8080/"
        },
        "outputId": "4516d913-cd95-40e7-a682-cb26398e4f5b"
      },
      "outputs": [
        {
          "output_type": "stream",
          "name": "stdout",
          "text": [
            "[ 2  6 10] (3,)\n",
            "[[ 2]\n",
            " [ 6]\n",
            " [10]] (3, 1)\n"
          ]
        }
      ],
      "source": [
        "col_r1 = a[:, 1]\n",
        "col_r2 = a[:, 1:2]\n",
        "print (col_r1, col_r1.shape)\n",
        "print (col_r2, col_r2.shape)"
      ]
    },
    {
      "cell_type": "markdown",
      "metadata": {
        "id": "PMt05HC7qaMZ"
      },
      "source": [
        "### Indexación avanzada\n"
      ]
    },
    {
      "cell_type": "code",
      "execution_count": 44,
      "metadata": {
        "id": "-l49FKg_qaMZ",
        "colab": {
          "base_uri": "https://localhost:8080/"
        },
        "outputId": "2bdc65ff-fb93-4c87-99d6-e979e209c2ff"
      },
      "outputs": [
        {
          "output_type": "stream",
          "name": "stdout",
          "text": [
            "[1 4]\n"
          ]
        }
      ],
      "source": [
        "a = np.array([[1,2], [3, 4]])\n",
        "print (a[[0, 1], [0, 1]])\n",
        "# El ejemplo de indexacion de una matriz entera es equivalente a esto:"
      ]
    },
    {
      "cell_type": "markdown",
      "metadata": {
        "id": "6NwtylSHqaMZ"
      },
      "source": [
        "Al usar la indexacion de un matriz de enteros, puede reutilizar el mismo elemento de la matriz de origen:"
      ]
    },
    {
      "cell_type": "code",
      "execution_count": 50,
      "metadata": {
        "id": "uAmd3gFYqaMZ",
        "colab": {
          "base_uri": "https://localhost:8080/"
        },
        "outputId": "be393f33-013f-4eaa-965b-dbeec26c023a"
      },
      "outputs": [
        {
          "output_type": "stream",
          "name": "stdout",
          "text": [
            "[2 2]\n"
          ]
        }
      ],
      "source": [
        "print (a[[0, 0], [1, 1]])"
      ]
    },
    {
      "cell_type": "code",
      "source": [
        "# Equivalente al ejemplo de indexacion de matriz de enteros\n",
        "b = np.array([[1, 2], [3,4]])\n",
        "\n",
        "# Indexación de matriz de enteros\n",
        "filas = np.array([0, 0])\n",
        "columnas = np.array([1, 1])\n",
        "print(b[filas, columnas])"
      ],
      "metadata": {
        "colab": {
          "base_uri": "https://localhost:8080/"
        },
        "id": "u7S_KcBdEJkn",
        "outputId": "99a1d426-1651-4dff-d4ab-3d87cc0424f3"
      },
      "execution_count": 52,
      "outputs": [
        {
          "output_type": "stream",
          "name": "stdout",
          "text": [
            "[2 2]\n"
          ]
        }
      ]
    },
    {
      "cell_type": "markdown",
      "metadata": {
        "id": "FOVCDT4tqaMZ"
      },
      "source": [
        "Un asunto  importante y extremadamente útil acerca de los recortes de una  matriz es que devuelven  *vistas (`views`)* en lugar de *copias (`copies`)*  de los datos de la matriz. Este es un área en la que NumPy  difiere de la lista de Python:  en las listas, estas son copias."
      ]
    },
    {
      "cell_type": "code",
      "execution_count": 53,
      "metadata": {
        "id": "BR_5P6aJqaMa",
        "colab": {
          "base_uri": "https://localhost:8080/"
        },
        "outputId": "592c0c38-8607-4653-daac-0351d04e3745"
      },
      "outputs": [
        {
          "output_type": "execute_result",
          "data": {
            "text/plain": [
              "array([[5, 0, 3, 3],\n",
              "       [7, 9, 3, 5],\n",
              "       [2, 4, 7, 6],\n",
              "       [8, 8, 1, 6],\n",
              "       [7, 7, 8, 1]])"
            ]
          },
          "metadata": {},
          "execution_count": 53
        }
      ],
      "source": [
        "np.random.seed(0)\n",
        "x2 = np.random.randint(10, size=(5, 4))\n",
        "x2"
      ]
    },
    {
      "cell_type": "code",
      "execution_count": 54,
      "metadata": {
        "id": "-J15zJjXqaMa",
        "colab": {
          "base_uri": "https://localhost:8080/"
        },
        "outputId": "80e83280-be41-4463-e5e6-6e934aef6ef4"
      },
      "outputs": [
        {
          "output_type": "stream",
          "name": "stdout",
          "text": [
            "[[5 0]\n",
            " [7 9]]\n"
          ]
        }
      ],
      "source": [
        "x2_sub = x2[:2, :2]\n",
        "print(x2_sub)"
      ]
    },
    {
      "cell_type": "code",
      "execution_count": 55,
      "metadata": {
        "id": "jZwufbuwqaMa",
        "colab": {
          "base_uri": "https://localhost:8080/"
        },
        "outputId": "3c9612c7-704b-4c5f-c7b7-f03b09906782"
      },
      "outputs": [
        {
          "output_type": "stream",
          "name": "stdout",
          "text": [
            "[[99  0]\n",
            " [ 7  9]]\n"
          ]
        }
      ],
      "source": [
        "x2_sub[0, 0] = 99\n",
        "print(x2_sub)"
      ]
    },
    {
      "cell_type": "markdown",
      "metadata": {
        "id": "44JeYQoZqaMa"
      },
      "source": [
        "Este comportamiento predeterminado es realmente muy útil: significa que cuando trabajamos con grandes conjuntos de datos, podemos acceder y procesar partes de estos conjuntos de datos sin necesidad de copiar el búfer de datos.\n",
        "\n",
        "A pesar de las características  de las `vistas` de una  matriz, a veces es útil copiar de forma explícita los datos dentro de una matriz o una submatriz. Esto se puede hacer  con el método `copy()`:"
      ]
    },
    {
      "cell_type": "code",
      "execution_count": 56,
      "metadata": {
        "id": "x_pEqBRWqaMb",
        "colab": {
          "base_uri": "https://localhost:8080/"
        },
        "outputId": "93c327fa-1286-4814-feac-effe9d00fc71"
      },
      "outputs": [
        {
          "output_type": "stream",
          "name": "stdout",
          "text": [
            "[[99  0]\n",
            " [ 7  9]]\n"
          ]
        }
      ],
      "source": [
        "x2_sub_copy = x2[:2, :2].copy()\n",
        "print(x2_sub_copy)"
      ]
    },
    {
      "cell_type": "code",
      "execution_count": 57,
      "metadata": {
        "id": "GtNYYOe5qaMb",
        "colab": {
          "base_uri": "https://localhost:8080/"
        },
        "outputId": "2115cf71-4dd9-4ad7-e923-2b882accf1a6"
      },
      "outputs": [
        {
          "output_type": "stream",
          "name": "stdout",
          "text": [
            "[[42  0]\n",
            " [ 7  9]]\n"
          ]
        }
      ],
      "source": [
        "x2_sub_copy[0, 0] = 42\n",
        "print(x2_sub_copy)"
      ]
    },
    {
      "cell_type": "code",
      "execution_count": 58,
      "metadata": {
        "id": "e7MCSsi3qaMb",
        "colab": {
          "base_uri": "https://localhost:8080/"
        },
        "outputId": "8234ab45-2479-4d6f-9dff-f3bf2755f562"
      },
      "outputs": [
        {
          "output_type": "stream",
          "name": "stdout",
          "text": [
            "[[99  0  3  3]\n",
            " [ 7  9  3  5]\n",
            " [ 2  4  7  6]\n",
            " [ 8  8  1  6]\n",
            " [ 7  7  8  1]]\n"
          ]
        }
      ],
      "source": [
        "print(x2)"
      ]
    },
    {
      "cell_type": "markdown",
      "metadata": {
        "id": "ujejSPYnHRJ2"
      },
      "source": [
        "### Reshaping"
      ]
    },
    {
      "cell_type": "code",
      "execution_count": 59,
      "metadata": {
        "id": "RGpuTWaTHRJ2",
        "colab": {
          "base_uri": "https://localhost:8080/"
        },
        "outputId": "9fc7f49e-2628-420d-ef63-09bb89bdd5c5"
      },
      "outputs": [
        {
          "output_type": "stream",
          "name": "stdout",
          "text": [
            "[[1 2 3]\n",
            " [4 5 6]\n",
            " [7 8 9]]\n"
          ]
        }
      ],
      "source": [
        "x4 = np.arange(1, 10).reshape((3, 3))\n",
        "print(x4)"
      ]
    },
    {
      "cell_type": "markdown",
      "metadata": {
        "id": "RU_ETRzWHRJ2"
      },
      "source": [
        "Ten en cuenta que para que esto funcione, el tamaño de la matriz inicial debe coincidir con el tamaño de la matriz rediseñada. Siempre que sea posible, el método `reshape` utilizará una `vista` sin copia de la matriz inicial.\n",
        "\n",
        "Otro patrón de `reshaping `, es la conversión de una matriz unidimensional en una fila o columna de una matriz bidimensional. Esto se puede hacer con el método `reshape`  o más fácilmente haciendo uso de `newaxis` dentro de una operación de división:"
      ]
    },
    {
      "cell_type": "code",
      "execution_count": 60,
      "metadata": {
        "id": "b-LEzn0SHRJ3",
        "colab": {
          "base_uri": "https://localhost:8080/"
        },
        "outputId": "41350521-7489-4c46-e990-9fd2f50b1112"
      },
      "outputs": [
        {
          "output_type": "execute_result",
          "data": {
            "text/plain": [
              "array([1, 2, 3])"
            ]
          },
          "metadata": {},
          "execution_count": 60
        }
      ],
      "source": [
        "x5 = np.array([1, 2, 3])\n",
        "x5"
      ]
    },
    {
      "cell_type": "code",
      "execution_count": 62,
      "metadata": {
        "id": "p4UfmxWjHRJ3",
        "colab": {
          "base_uri": "https://localhost:8080/"
        },
        "outputId": "cf0f80c2-de73-46f5-b535-622ba299bc93"
      },
      "outputs": [
        {
          "output_type": "execute_result",
          "data": {
            "text/plain": [
              "array([[1, 2, 3]])"
            ]
          },
          "metadata": {},
          "execution_count": 62
        }
      ],
      "source": [
        "# vector fila via reshape\n",
        "w= x5.reshape(1, -1)\n",
        "w"
      ]
    },
    {
      "cell_type": "code",
      "execution_count": 65,
      "metadata": {
        "id": "Pv8bWknUHRJ3",
        "colab": {
          "base_uri": "https://localhost:8080/"
        },
        "outputId": "b9e6d60a-76c5-4825-e9c7-f1de7afe01c0"
      },
      "outputs": [
        {
          "output_type": "execute_result",
          "data": {
            "text/plain": [
              "array([[1, 2, 3]])"
            ]
          },
          "metadata": {},
          "execution_count": 65
        }
      ],
      "source": [
        "# vector fila con newaxis\n",
        "ne =x5[np.newaxis, :]\n",
        "ne"
      ]
    },
    {
      "cell_type": "code",
      "execution_count": 66,
      "metadata": {
        "id": "Q2pcC_zfHRJ4",
        "colab": {
          "base_uri": "https://localhost:8080/"
        },
        "outputId": "4af7d177-dc7e-44ae-f8ff-4c212e0439b3"
      },
      "outputs": [
        {
          "output_type": "execute_result",
          "data": {
            "text/plain": [
              "array([[1],\n",
              "       [2],\n",
              "       [3]])"
            ]
          },
          "metadata": {},
          "execution_count": 66
        }
      ],
      "source": [
        "# vector columna via reshape\n",
        "y=x5.reshape(-1,1)\n",
        "y"
      ]
    },
    {
      "cell_type": "code",
      "execution_count": 67,
      "metadata": {
        "id": "HcVHXqr-HRJ4",
        "colab": {
          "base_uri": "https://localhost:8080/"
        },
        "outputId": "fae42458-c6d7-4b9a-84bf-297eefbaf90e"
      },
      "outputs": [
        {
          "output_type": "execute_result",
          "data": {
            "text/plain": [
              "array([[1],\n",
              "       [2],\n",
              "       [3]])"
            ]
          },
          "metadata": {},
          "execution_count": 67
        }
      ],
      "source": [
        "# vector columna con newaxis\n",
        "e= x5[:, np.newaxis]\n",
        "e"
      ]
    },
    {
      "cell_type": "markdown",
      "metadata": {
        "collapsed": true,
        "id": "YzFU6QFlHRJ4"
      },
      "source": [
        "### Concatenación y  separación\n"
      ]
    },
    {
      "cell_type": "code",
      "execution_count": 68,
      "metadata": {
        "id": "sViXchcIHRJ5",
        "colab": {
          "base_uri": "https://localhost:8080/"
        },
        "outputId": "e964882f-502d-4e89-89af-865db6147899"
      },
      "outputs": [
        {
          "output_type": "execute_result",
          "data": {
            "text/plain": [
              "array([4, 5, 6, 7, 8, 9])"
            ]
          },
          "metadata": {},
          "execution_count": 68
        }
      ],
      "source": [
        "x = np.array([4, 5, 6])\n",
        "y = np.array([7, 8, 9])\n",
        "np.concatenate([x, y])"
      ]
    },
    {
      "cell_type": "code",
      "execution_count": 69,
      "metadata": {
        "id": "9P1oTO3SHRJ5",
        "colab": {
          "base_uri": "https://localhost:8080/"
        },
        "outputId": "8aa3cc5d-eb73-473a-aaa1-2d72ecf118be"
      },
      "outputs": [
        {
          "output_type": "stream",
          "name": "stdout",
          "text": [
            "[ 4  5  6  7  8  9 99 99 99]\n"
          ]
        }
      ],
      "source": [
        "# concatenacion de dos o mas matrices\n",
        "z = [99, 99, 99]\n",
        "print(np.concatenate([x, y, z]))"
      ]
    },
    {
      "cell_type": "code",
      "execution_count": 70,
      "metadata": {
        "id": "ExC9DeMgHRJ5",
        "colab": {
          "base_uri": "https://localhost:8080/"
        },
        "outputId": "38dd04ed-3d64-4ee1-fcce-a7616d35aba1"
      },
      "outputs": [
        {
          "output_type": "execute_result",
          "data": {
            "text/plain": [
              "array([[1, 2, 3],\n",
              "       [4, 5, 6],\n",
              "       [1, 2, 3],\n",
              "       [4, 5, 6]])"
            ]
          },
          "metadata": {},
          "execution_count": 70
        }
      ],
      "source": [
        "# concatendo una matriz dos veces\n",
        "grid = np.array([[1, 2, 3],\n",
        "                 [4, 5, 6]])\n",
        "np.concatenate([grid, grid])"
      ]
    },
    {
      "cell_type": "markdown",
      "metadata": {
        "id": "FV3TV1wgHRJ6"
      },
      "source": [
        "Para trabajar con matrices de distintas dimensiones, se usan las funciones `vstack` y `hstack`:"
      ]
    },
    {
      "cell_type": "code",
      "execution_count": 72,
      "metadata": {
        "id": "JXqPVFAeHRJ6",
        "colab": {
          "base_uri": "https://localhost:8080/"
        },
        "outputId": "0d917038-8628-4306-9ba8-2d4d0d2f3153"
      },
      "outputs": [
        {
          "output_type": "execute_result",
          "data": {
            "text/plain": [
              "array([[0, 1, 2],\n",
              "       [3, 4, 5],\n",
              "       [6, 5, 4]])"
            ]
          },
          "metadata": {},
          "execution_count": 72
        }
      ],
      "source": [
        "x = np.array([0, 1, 2])\n",
        "grid = np.array([[3, 4, 5],\n",
        "                 [6, 5, 4]])\n",
        "\n",
        "# Se junta la matriz de manera vertical\n",
        "vertical = np.vstack([x, grid])\n",
        "vertical"
      ]
    },
    {
      "cell_type": "code",
      "execution_count": 73,
      "metadata": {
        "id": "tx_sdnkxHRJ7",
        "colab": {
          "base_uri": "https://localhost:8080/"
        },
        "outputId": "ca086547-3f74-4723-9813-ab0530276b68"
      },
      "outputs": [
        {
          "output_type": "execute_result",
          "data": {
            "text/plain": [
              "array([[ 3,  4,  5, 23],\n",
              "       [ 6,  5,  4, 23]])"
            ]
          },
          "metadata": {},
          "execution_count": 73
        }
      ],
      "source": [
        "# Se junta la matriz de manera horizontal\n",
        "y = np.array([[23],\n",
        "              [23]])\n",
        "h = np.hstack([grid, y.reshape(-1, 1)])\n",
        "h"
      ]
    },
    {
      "cell_type": "markdown",
      "metadata": {
        "collapsed": true,
        "id": "0GWOBZtIHRJ7"
      },
      "source": [
        "Lo contrario de la concatenación es la división o separación, que es implementado por las funciones `np.split`, `np.hsplit` y `np.vsplit`. Para cada uno de estas funciones , podemos pasar una lista de índices que dan los puntos de división.\n",
        "\n",
        "Ver:[https://numpy.org/doc/stable/reference/generated/numpy.split.html](https://numpy.org/doc/stable/reference/generated/numpy.split.html)"
      ]
    },
    {
      "cell_type": "code",
      "execution_count": 74,
      "metadata": {
        "id": "gkXomQdcHRJ7",
        "colab": {
          "base_uri": "https://localhost:8080/"
        },
        "outputId": "ed0f6584-5a48-42a0-ae79-30ddba150b1f"
      },
      "outputs": [
        {
          "output_type": "stream",
          "name": "stdout",
          "text": [
            "[1 2 3] [44 95] [3 2 1]\n"
          ]
        }
      ],
      "source": [
        "x = [1, 2, 3, 44, 95, 3, 2, 1]\n",
        "x1, x2, x3 = np.split(x, [3, 5])\n",
        "print(x1, x2, x3)"
      ]
    },
    {
      "cell_type": "code",
      "execution_count": 75,
      "metadata": {
        "id": "N3db3D7cHRJ7",
        "colab": {
          "base_uri": "https://localhost:8080/"
        },
        "outputId": "116cab1d-7e98-4ee1-c42f-f09c6525847c"
      },
      "outputs": [
        {
          "output_type": "execute_result",
          "data": {
            "text/plain": [
              "array([[ 0,  1,  2,  3],\n",
              "       [ 4,  5,  6,  7],\n",
              "       [ 8,  9, 10, 11],\n",
              "       [12, 13, 14, 15]])"
            ]
          },
          "metadata": {},
          "execution_count": 75
        }
      ],
      "source": [
        "grid = np.arange(16).reshape((4, 4))\n",
        "grid"
      ]
    },
    {
      "cell_type": "code",
      "execution_count": 76,
      "metadata": {
        "id": "-1wFFEyfHRJ8",
        "colab": {
          "base_uri": "https://localhost:8080/"
        },
        "outputId": "8db61b62-c545-4bbf-c183-be50ec25a59a"
      },
      "outputs": [
        {
          "output_type": "stream",
          "name": "stdout",
          "text": [
            "[[0 1 2 3]\n",
            " [4 5 6 7]]\n",
            "[[ 8  9 10 11]\n",
            " [12 13 14 15]]\n"
          ]
        }
      ],
      "source": [
        "grid1, grid2 = np.vsplit(grid, [2])\n",
        "print(grid1)\n",
        "print(grid2)"
      ]
    },
    {
      "cell_type": "code",
      "execution_count": 77,
      "metadata": {
        "id": "-QSxKWNJHRJ8",
        "colab": {
          "base_uri": "https://localhost:8080/"
        },
        "outputId": "1500716d-2615-4108-8896-9a0039024d84"
      },
      "outputs": [
        {
          "output_type": "stream",
          "name": "stdout",
          "text": [
            "[[ 0  1]\n",
            " [ 4  5]\n",
            " [ 8  9]\n",
            " [12 13]]\n",
            "[[ 2  3]\n",
            " [ 6  7]\n",
            " [10 11]\n",
            " [14 15]]\n"
          ]
        }
      ],
      "source": [
        "grid3, grid4 = np.hsplit(grid,[2])\n",
        "print(grid3)\n",
        "print(grid4)"
      ]
    },
    {
      "cell_type": "markdown",
      "metadata": {
        "id": "tHP4XmEoHRKJ"
      },
      "source": [
        "### Fancy\n"
      ]
    },
    {
      "cell_type": "code",
      "execution_count": 78,
      "metadata": {
        "id": "p8Sk55iPHRKK",
        "colab": {
          "base_uri": "https://localhost:8080/"
        },
        "outputId": "28a00448-d944-4faa-cf39-b616a2120196"
      },
      "outputs": [
        {
          "output_type": "stream",
          "name": "stdout",
          "text": [
            "[51 92 14 71 60 20 82 86 74 74]\n"
          ]
        }
      ],
      "source": [
        "rand = np.random.RandomState(42)\n",
        "x = rand.randint(100, size=10)\n",
        "print(x)"
      ]
    },
    {
      "cell_type": "code",
      "execution_count": 79,
      "metadata": {
        "id": "WnihK-M2HRKM",
        "colab": {
          "base_uri": "https://localhost:8080/"
        },
        "outputId": "e1f302a2-c26a-453c-ba68-4dc9f287a9b8"
      },
      "outputs": [
        {
          "output_type": "execute_result",
          "data": {
            "text/plain": [
              "[92, 20, 14]"
            ]
          },
          "metadata": {},
          "execution_count": 79
        }
      ],
      "source": [
        "# Accedemos a tres elementos diferentes\n",
        "[x[1], x[5], x[2]]"
      ]
    },
    {
      "cell_type": "markdown",
      "metadata": {
        "id": "avs1AUSlHRKN"
      },
      "source": [
        "Alternativamente, podemos pasar una sola lista o matriz de índices para obtener el mismo resultado:"
      ]
    },
    {
      "cell_type": "code",
      "execution_count": 80,
      "metadata": {
        "id": "buKD93QUHRKN",
        "colab": {
          "base_uri": "https://localhost:8080/"
        },
        "outputId": "edce7df9-41fb-4bca-e5d9-6b4748645cff"
      },
      "outputs": [
        {
          "output_type": "stream",
          "name": "stdout",
          "text": [
            "[92 20 14]\n"
          ]
        }
      ],
      "source": [
        "indices = [1, 5, 2]\n",
        "print(x[indices])"
      ]
    },
    {
      "cell_type": "markdown",
      "metadata": {
        "id": "pIU1Q9zyHRKO"
      },
      "source": [
        "Cuando se utiliza fancy, la forma del resultado refleja la forma de las matrices de índice en lugar de la forma de la matriz que se indexa y trabaja  en múltiples  dimensiones:"
      ]
    },
    {
      "cell_type": "code",
      "execution_count": 88,
      "metadata": {
        "id": "u4Baonx_HRKO",
        "colab": {
          "base_uri": "https://localhost:8080/"
        },
        "outputId": "72b68b9a-80d7-4f7c-bdc6-db0abb170eae"
      },
      "outputs": [
        {
          "output_type": "execute_result",
          "data": {
            "text/plain": [
              "array([ 51,  11,  22, 111, 222,  33,  82,  86,  74,  74])"
            ]
          },
          "metadata": {},
          "execution_count": 88
        }
      ],
      "source": [
        "# Completar\n",
        "x[1] = 11\n",
        "x[2] = 22\n",
        "x[5] = 33\n",
        "x"
      ]
    },
    {
      "cell_type": "code",
      "execution_count": 89,
      "metadata": {
        "id": "QFPQLUylHRKO",
        "colab": {
          "base_uri": "https://localhost:8080/"
        },
        "outputId": "284fbeb9-bb86-496e-e481-3fe6a0d7a133"
      },
      "outputs": [
        {
          "output_type": "execute_result",
          "data": {
            "text/plain": [
              "array([[ 0,  1,  2,  3],\n",
              "       [ 4,  5,  6,  7],\n",
              "       [ 8,  9, 10, 11]])"
            ]
          },
          "metadata": {},
          "execution_count": 89
        }
      ],
      "source": [
        "X = np.arange(12).reshape((3, 4))\n",
        "X"
      ]
    },
    {
      "cell_type": "markdown",
      "metadata": {
        "id": "BbqZMwVKHRKP"
      },
      "source": [
        "Al igual que con la indexación estándar, el primer índice se refiere a la fila, y el segundo a la columna:"
      ]
    },
    {
      "cell_type": "code",
      "execution_count": 90,
      "metadata": {
        "id": "JOmJykqdHRKP",
        "colab": {
          "base_uri": "https://localhost:8080/"
        },
        "outputId": "c75c52c2-23aa-4fe6-8c32-5d86a1e8a6d1"
      },
      "outputs": [
        {
          "output_type": "execute_result",
          "data": {
            "text/plain": [
              "array([ 2,  5, 11])"
            ]
          },
          "metadata": {},
          "execution_count": 90
        }
      ],
      "source": [
        "fila = np.array([0, 1, 2])\n",
        "col = np.array([2, 1, 3])\n",
        "X[fila, col]"
      ]
    },
    {
      "cell_type": "markdown",
      "metadata": {
        "id": "5UbI7MM1HRKP"
      },
      "source": [
        "Observa que el primer valor en el resultado es `X[0, 2]`, el segundo es `X[1, 1]`  y el tercero es `X[2, 3]`. El emparejamiento de índices en la indexación fancy  sigue todas las reglas del broadcasting, por ejemplo, si combinamos un vector de columna y un vector de fila dentro de los índices, obtenemos un resultado bidimensional:"
      ]
    },
    {
      "cell_type": "code",
      "execution_count": 92,
      "metadata": {
        "id": "ZHaBvrvmHRKQ",
        "colab": {
          "base_uri": "https://localhost:8080/"
        },
        "outputId": "c66a6272-a718-44ef-b7fc-b21e7b5beeb8"
      },
      "outputs": [
        {
          "output_type": "stream",
          "name": "stdout",
          "text": [
            "[[ 2  1  3]\n",
            " [ 6  5  7]\n",
            " [10  9 11]]\n"
          ]
        }
      ],
      "source": [
        "# Completar\n",
        "fila = np.array([0, 1, 2])[:, np.newaxis]\n",
        "col = np.array([2, 1, 3])\n",
        "print(X[fila, col])\n"
      ]
    },
    {
      "cell_type": "markdown",
      "metadata": {
        "id": "UY1C8fh7HRKQ"
      },
      "source": [
        "Aquí, cada valor de fila se empareja con cada vector de columna, exactamente como se hace en broadcasting  de operaciones aritméticas. Por ejemplo:"
      ]
    },
    {
      "cell_type": "code",
      "execution_count": 93,
      "metadata": {
        "id": "WlT7nSHMHRKQ",
        "colab": {
          "base_uri": "https://localhost:8080/"
        },
        "outputId": "662a6303-9ff0-488b-b5c3-65165727c09b"
      },
      "outputs": [
        {
          "output_type": "stream",
          "name": "stdout",
          "text": [
            "[[1 2]\n",
            " [5 6]]\n"
          ]
        }
      ],
      "source": [
        "# Completar\n",
        "fila = np.array([0, 1])[:, np.newaxis]\n",
        "col = np.array([1, 2])\n",
        "print(X[fila, col])"
      ]
    },
    {
      "cell_type": "markdown",
      "metadata": {
        "id": "3UA5Ps0cHRKd"
      },
      "source": [
        "Siempre es importante recordar que en  la indexación fancy, el valor de retorno refleja la forma del broadcasting  de los índices, en lugar de la forma de la matriz que se indexa."
      ]
    },
    {
      "cell_type": "markdown",
      "metadata": {
        "id": "QN9wN13cHRKd"
      },
      "source": [
        "Para operaciones  más potentes, la indexación adornada se puede combinar con los otros esquemas de indexación que existen:"
      ]
    },
    {
      "cell_type": "code",
      "execution_count": 94,
      "metadata": {
        "id": "p_gbcz40HRKe",
        "colab": {
          "base_uri": "https://localhost:8080/"
        },
        "outputId": "c1c72dbb-6696-4fa2-922b-2b451219d1e1"
      },
      "outputs": [
        {
          "output_type": "stream",
          "name": "stdout",
          "text": [
            "[[ 0  1  2  3]\n",
            " [ 4  5  6  7]\n",
            " [ 8  9 10 11]]\n"
          ]
        }
      ],
      "source": [
        "print(X)"
      ]
    },
    {
      "cell_type": "code",
      "execution_count": 95,
      "metadata": {
        "id": "TEFOFrl4HRKe",
        "colab": {
          "base_uri": "https://localhost:8080/"
        },
        "outputId": "d2970a43-9678-4905-88ef-aaeb4385e624"
      },
      "outputs": [
        {
          "output_type": "stream",
          "name": "stdout",
          "text": [
            "6\n",
            "[2 7]\n"
          ]
        }
      ],
      "source": [
        "# Combinando indices simples\n",
        "com= X[1, 2]\n",
        "print(com)\n",
        "#combinado indexado fancy\n",
        "indices_fila = [0, 1]\n",
        "indices_col = [2, 3]\n",
        "\n",
        "print(X[indices_fila, indices_col])"
      ]
    },
    {
      "cell_type": "code",
      "execution_count": 96,
      "metadata": {
        "id": "BZcspK2-HRKe",
        "colab": {
          "base_uri": "https://localhost:8080/"
        },
        "outputId": "71754edf-a209-483f-8f1a-f4d4f0e65874"
      },
      "outputs": [
        {
          "output_type": "stream",
          "name": "stdout",
          "text": [
            "[[1 2]\n",
            " [5 6]]\n"
          ]
        }
      ],
      "source": [
        "# Combinando el indexado fancy y el recorte\n",
        "indices_fila = [0, 1]\n",
        "print(X[indices_fila, 1:3])"
      ]
    },
    {
      "cell_type": "markdown",
      "metadata": {
        "id": "O1T_gLwoHRKf"
      },
      "source": [
        "Así como el fancy  se puede utilizar para acceder a partes de una matriz, también se puede utilizar para modificar partes de una matriz. Por ejemplo, si  tenemos una matriz de índices y nos gustaría establecer los elementos correspondientes en una matriz a algún valor, podemos hacer lo siguiente:"
      ]
    },
    {
      "cell_type": "code",
      "execution_count": 97,
      "metadata": {
        "id": "ye2LR3_qHRKf",
        "colab": {
          "base_uri": "https://localhost:8080/"
        },
        "outputId": "b70c5172-7bd8-4a83-fcbe-9a896730afbe"
      },
      "outputs": [
        {
          "output_type": "stream",
          "name": "stdout",
          "text": [
            "[ 0 99 99  3 99  5  6  7 99  9]\n"
          ]
        }
      ],
      "source": [
        "x = np.arange(10)\n",
        "i = np.array([2, 1, 8, 4])\n",
        "x[i] = 99\n",
        "print(x)"
      ]
    },
    {
      "cell_type": "markdown",
      "metadata": {
        "id": "R7FOcHtwHRKg"
      },
      "source": [
        "Los índices repetidos con estas operaciones pueden causar algunos resultados potencialmente inesperados. Considera lo siguiente:"
      ]
    },
    {
      "cell_type": "code",
      "execution_count": 98,
      "metadata": {
        "id": "Ja7j27ctHRKg",
        "colab": {
          "base_uri": "https://localhost:8080/"
        },
        "outputId": "879d39c4-f015-46fa-d7dc-faf5439bcebd"
      },
      "outputs": [
        {
          "output_type": "stream",
          "name": "stdout",
          "text": [
            "[6. 0. 0. 0. 0. 0. 0. 0. 0. 0.]\n"
          ]
        }
      ],
      "source": [
        "x = np.zeros(10)\n",
        "x[[0, 0]] = [4, 6]\n",
        "print(x)"
      ]
    },
    {
      "cell_type": "markdown",
      "metadata": {
        "collapsed": true,
        "id": "O3wLVTgBHRKg"
      },
      "source": [
        "El resultado de esta operación es asignar primero  `x[0] = 4`, seguido por `x[0] = 6`. Pero el resultado es que `x[0]` contiene el valor 6.\n",
        "\n",
        "Considera la siguiente operación:"
      ]
    },
    {
      "cell_type": "code",
      "execution_count": 99,
      "metadata": {
        "id": "9Y9isBdeHRKg",
        "colab": {
          "base_uri": "https://localhost:8080/"
        },
        "outputId": "04f719dc-aaa8-44a0-f74a-36f1d35fb666"
      },
      "outputs": [
        {
          "output_type": "execute_result",
          "data": {
            "text/plain": [
              "array([6., 0., 1., 1., 1., 0., 0., 0., 0., 0.])"
            ]
          },
          "metadata": {},
          "execution_count": 99
        }
      ],
      "source": [
        "i = [2, 3, 3, 4, 4, 4]\n",
        "x[i] += 1\n",
        "x"
      ]
    },
    {
      "cell_type": "markdown",
      "metadata": {
        "id": "fLCn40UwHRKh"
      },
      "source": [
        "En este caso algún resultado inesperado se debe conceptualmente  a que `x[i] +=1` se entiende como una abreviatura de `x[i] = x [i] + 1`. Cuando `x[i] + 1` es evaluado el resultado es asignado  a los índices en `x` . Con esto en mente, no es que el aumento que ocurre varias veces, sino la asignación, que conduce a los resultados  no intuitivos.\n",
        "\n",
        "Si quieremos  el otro comportamiento donde se repite la operación, se puede utilizar el método `at()` de `ufuncs`:"
      ]
    },
    {
      "cell_type": "code",
      "execution_count": 105,
      "metadata": {
        "id": "3rahnE5wHRKi",
        "colab": {
          "base_uri": "https://localhost:8080/"
        },
        "outputId": "bba30b39-a55f-4ffa-b8af-3aab2e18bde7"
      },
      "outputs": [
        {
          "output_type": "execute_result",
          "data": {
            "text/plain": [
              "array([ 6.,  0.,  7., 13., 19.,  0.,  0.,  0.,  0.,  0.])"
            ]
          },
          "metadata": {},
          "execution_count": 105
        }
      ],
      "source": [
        "# Completar\n",
        "s=np.add.at(x, i, 1)\n",
        "x"
      ]
    },
    {
      "cell_type": "markdown",
      "metadata": {
        "id": "0rziizOtHRKj"
      },
      "source": [
        "El método `at()` realiza una aplicación  del operador dado en los índices especificados (aquí, `i`) con el valor especificado (aquí, `1`)."
      ]
    },
    {
      "cell_type": "markdown",
      "metadata": {
        "id": "17TwhqScqaMm"
      },
      "source": [
        "###  Expresiones vectorizadas"
      ]
    },
    {
      "cell_type": "markdown",
      "metadata": {
        "id": "3QMUpEcqqaMn"
      },
      "source": [
        "### Agregaciones\n"
      ]
    },
    {
      "cell_type": "code",
      "execution_count": 106,
      "metadata": {
        "id": "MLhcZaakqaMn",
        "colab": {
          "base_uri": "https://localhost:8080/"
        },
        "outputId": "b54db964-b89c-498a-e972-0724ca1e0eb7"
      },
      "outputs": [
        {
          "output_type": "execute_result",
          "data": {
            "text/plain": [
              "47.03631196196963"
            ]
          },
          "metadata": {},
          "execution_count": 106
        }
      ],
      "source": [
        "L = np.random.random(100)\n",
        "sum(L)"
      ]
    },
    {
      "cell_type": "markdown",
      "metadata": {
        "id": "0Y_nOzbsqaMn"
      },
      "source": [
        "La sintaxis es bastante similar a la función de `sum` de  `NumPy`  y el resultado es el mismo en el caso más simple:"
      ]
    },
    {
      "cell_type": "code",
      "execution_count": 107,
      "metadata": {
        "id": "WXgGIcQSqaMn",
        "colab": {
          "base_uri": "https://localhost:8080/"
        },
        "outputId": "46fc8ddc-a9fb-42c4-beb6-5b3969e0d048"
      },
      "outputs": [
        {
          "output_type": "execute_result",
          "data": {
            "text/plain": [
              "47.03631196196964"
            ]
          },
          "metadata": {},
          "execution_count": 107
        }
      ],
      "source": [
        "np.sum(L)"
      ]
    },
    {
      "cell_type": "markdown",
      "metadata": {
        "id": "7FhCoi_JqaMn"
      },
      "source": [
        "Sin embargo, debido a que la operación se ejecuta  en código compilado, la versión `NumPy` de la operación se calcula mucho más rápidamente:"
      ]
    },
    {
      "cell_type": "code",
      "execution_count": 108,
      "metadata": {
        "id": "L1FKgXK_qaMn",
        "colab": {
          "base_uri": "https://localhost:8080/"
        },
        "outputId": "6837983e-be8e-4d8a-b73c-c0c081e0b9eb"
      },
      "outputs": [
        {
          "output_type": "stream",
          "name": "stdout",
          "text": [
            "85.3 ms ± 809 µs per loop (mean ± std. dev. of 7 runs, 10 loops each)\n",
            "374 µs ± 11.7 µs per loop (mean ± std. dev. of 7 runs, 1000 loops each)\n"
          ]
        }
      ],
      "source": [
        "matriz_grande = np.random.rand(1000000)\n",
        "%timeit sum(matriz_grande)\n",
        "%timeit np.sum(matriz_grande)"
      ]
    },
    {
      "cell_type": "markdown",
      "metadata": {
        "id": "7I3yj7HrqaMn"
      },
      "source": [
        "La función `sum` y la función `np.sum` no son idénticas, lo que a veces puede conducir a la confusión.  En particular, sus argumentos opcionales tienen significados diferentes  y `np.sum` es válido a  varias dimensiones de una matriz."
      ]
    },
    {
      "cell_type": "code",
      "execution_count": 109,
      "metadata": {
        "id": "46tC54BJqaMn",
        "colab": {
          "base_uri": "https://localhost:8080/"
        },
        "outputId": "e19e7787-76de-4752-cc34-9338331e2d4e"
      },
      "outputs": [
        {
          "output_type": "execute_result",
          "data": {
            "text/plain": [
              "(7.071203171893359e-07, 0.9999997207656334)"
            ]
          },
          "metadata": {},
          "execution_count": 109
        }
      ],
      "source": [
        "# Otras funciones min y max\n",
        "min(matriz_grande), max(matriz_grande)"
      ]
    },
    {
      "cell_type": "code",
      "execution_count": 110,
      "metadata": {
        "id": "RcZyNPFzqaMn",
        "colab": {
          "base_uri": "https://localhost:8080/"
        },
        "outputId": "551db7c8-a6b4-4db1-d5b4-d2c0b401bcb9"
      },
      "outputs": [
        {
          "output_type": "stream",
          "name": "stdout",
          "text": [
            "62 ms ± 890 µs per loop (mean ± std. dev. of 7 runs, 10 loops each)\n",
            "441 µs ± 13.8 µs per loop (mean ± std. dev. of 7 runs, 1000 loops each)\n"
          ]
        }
      ],
      "source": [
        "%timeit min(matriz_grande)\n",
        "%timeit np.min(matriz_grande)"
      ]
    },
    {
      "cell_type": "markdown",
      "metadata": {
        "id": "FKC12DzRqaMn"
      },
      "source": [
        "Todas estas funciones también están disponibles como métodos en la clase `ndarray`. Por ejemplo, `np.mean(data)` y `data.mean()` en el ejemplo siguiente son equivalentes:"
      ]
    },
    {
      "cell_type": "code",
      "execution_count": 111,
      "metadata": {
        "id": "ubeb597jqaMn",
        "colab": {
          "base_uri": "https://localhost:8080/"
        },
        "outputId": "f6c93121-35f5-4764-d2b5-02c8e784fece"
      },
      "outputs": [
        {
          "output_type": "execute_result",
          "data": {
            "text/plain": [
              "0.044126718568646986"
            ]
          },
          "metadata": {},
          "execution_count": 111
        }
      ],
      "source": [
        "data = np.random.normal(size=(15, 15))\n",
        "np.mean(data)"
      ]
    },
    {
      "cell_type": "code",
      "execution_count": 112,
      "metadata": {
        "id": "otNwU7ucqaMn",
        "colab": {
          "base_uri": "https://localhost:8080/"
        },
        "outputId": "797b3ca7-f814-49aa-a68e-128c8819d45c"
      },
      "outputs": [
        {
          "output_type": "execute_result",
          "data": {
            "text/plain": [
              "0.044126718568646986"
            ]
          },
          "metadata": {},
          "execution_count": 112
        }
      ],
      "source": [
        "data.mean()"
      ]
    },
    {
      "cell_type": "markdown",
      "metadata": {
        "id": "AK90lEACqaMn"
      },
      "source": [
        "Un tipo común de operación de agregación es un agregado a lo largo de una fila o columna."
      ]
    },
    {
      "cell_type": "code",
      "execution_count": 113,
      "metadata": {
        "id": "s_Z0q4xHqaMo",
        "colab": {
          "base_uri": "https://localhost:8080/"
        },
        "outputId": "28a6ffa4-20af-469f-af79-59d3ff673a0c"
      },
      "outputs": [
        {
          "output_type": "stream",
          "name": "stdout",
          "text": [
            "[[0.78911301 0.63111867 0.7285163  0.66979703 0.17088322 0.13881003]\n",
            " [0.00935403 0.63751707 0.76420221 0.1876222  0.95137218 0.44469986]\n",
            " [0.47577551 0.43077223 0.49532871 0.58341548 0.27654054 0.96025749]\n",
            " [0.12685672 0.38686572 0.29660634 0.99907694 0.00377931 0.82984241]\n",
            " [0.75816216 0.01685189 0.23811077 0.28054238 0.63922302 0.31781681]]\n"
          ]
        }
      ],
      "source": [
        "M = np.random.random((5, 6))\n",
        "print(M)"
      ]
    },
    {
      "cell_type": "markdown",
      "metadata": {
        "id": "9q0RaQs4qaMo"
      },
      "source": [
        "De forma predeterminada, cada función de agregación de  `NumPy`  devolverá el agregado sobre toda la matriz:"
      ]
    },
    {
      "cell_type": "code",
      "execution_count": 114,
      "metadata": {
        "id": "Mvn_GqRDqaMo",
        "colab": {
          "base_uri": "https://localhost:8080/"
        },
        "outputId": "44f0a62f-d8f8-4951-db09-25be2a0ff399"
      },
      "outputs": [
        {
          "output_type": "execute_result",
          "data": {
            "text/plain": [
              "14.238830244406318"
            ]
          },
          "metadata": {},
          "execution_count": 114
        }
      ],
      "source": [
        "M.sum()"
      ]
    },
    {
      "cell_type": "markdown",
      "metadata": {
        "id": "vk6BEGcBqaMo"
      },
      "source": [
        "Las funciones de agregación toman un argumento adicional que especifica el eje a lo largo del cual se calcula el agregado. Por ejemplo, podemos encontrar el valor de la suma y el  mínimo de cada columna especificando `axis = 0`:"
      ]
    },
    {
      "cell_type": "code",
      "execution_count": 115,
      "metadata": {
        "id": "m45aeskcqaMp",
        "colab": {
          "base_uri": "https://localhost:8080/"
        },
        "outputId": "50862c7a-e1d5-4915-848d-64d10ec65468"
      },
      "outputs": [
        {
          "output_type": "execute_result",
          "data": {
            "text/plain": [
              "array([2.15926144, 2.10312558, 2.52276433, 2.72045403, 2.04179827,\n",
              "       2.69142659])"
            ]
          },
          "metadata": {},
          "execution_count": 115
        }
      ],
      "source": [
        "M.sum(axis= 0)"
      ]
    },
    {
      "cell_type": "code",
      "execution_count": 116,
      "metadata": {
        "id": "7hcqoOstqaMp",
        "colab": {
          "base_uri": "https://localhost:8080/"
        },
        "outputId": "1af23508-06d4-447b-b30a-e94d8d87b11d"
      },
      "outputs": [
        {
          "output_type": "execute_result",
          "data": {
            "text/plain": [
              "(10, 15)"
            ]
          },
          "metadata": {},
          "execution_count": 116
        }
      ],
      "source": [
        "data = np.random.normal(size=(5, 10, 15))\n",
        "data.sum(axis=0).shape"
      ]
    },
    {
      "cell_type": "code",
      "execution_count": 117,
      "metadata": {
        "id": "Rp1FO9UoqaMp",
        "colab": {
          "base_uri": "https://localhost:8080/"
        },
        "outputId": "f941f713-97aa-4df7-8acd-fda2f5e37368"
      },
      "outputs": [
        {
          "output_type": "execute_result",
          "data": {
            "text/plain": [
              "(10,)"
            ]
          },
          "metadata": {},
          "execution_count": 117
        }
      ],
      "source": [
        "data.sum(axis=(0, 2)).shape"
      ]
    },
    {
      "cell_type": "code",
      "execution_count": 118,
      "metadata": {
        "id": "aD18Ek0-qaMp",
        "colab": {
          "base_uri": "https://localhost:8080/"
        },
        "outputId": "195e0de6-153f-409d-f7d5-19a63d5fe954"
      },
      "outputs": [
        {
          "output_type": "execute_result",
          "data": {
            "text/plain": [
              "-40.96575138792459"
            ]
          },
          "metadata": {},
          "execution_count": 118
        }
      ],
      "source": [
        "data.sum()"
      ]
    },
    {
      "cell_type": "markdown",
      "metadata": {
        "id": "2m9jJXUYqaMp"
      },
      "source": [
        "Algunas funciones de agregación en `Numpy ` son :\n",
        "\n",
        "\n",
        "|Nombre de funcion  | VersionNaN-safe     | Descripcion                                   |\n",
        "|-------------------|---------------------|-----------------------------------------------|\n",
        "| ``np.sum``        | ``np.nansum``       | Calcula suma de elementos                     |\n",
        "| ``np.prod``       | ``np.nanprod``      | Calcula el producto de elementos              |\n",
        "| ``np.mean``       | ``np.nanmean``      | Calcula la media de elementos                 |\n",
        "| ``np.std``        | ``np.nanstd``       | Calcula la desviacion estandar                |\n",
        "| ``np.var``        | ``np.nanvar``       | Calcula la  varianza                          |\n",
        "| ``np.min``        | ``np.nanmin``       | Encuentra el minimo valor                     |\n",
        "| ``np.max``        | ``np.nanmax``       | Encuentra el maximo valor                     |\n",
        "| ``np.argmin``     | ``np.nanargmin``    | Encuenta el index del minimo valor            |\n",
        "| ``np.argmax``     | ``np.nanargmax``    | Encuentra el index del maximo valor           |\n",
        "| ``np.median``     | ``np.nanmedian``    | Calcula la mediana de elementos               |\n",
        "| ``np.percentile`` | ``np.nanpercentile``| Calcula el rango estatistico de elementos     |\n",
        "| ``np.any``        | N/A                 | Evalua si algun elemento es true              |\n",
        "| ``np.all``        | N/A                 | Evalua si todos los elementos son true        |\n",
        "\n"
      ]
    },
    {
      "cell_type": "markdown",
      "metadata": {
        "id": "2Sf0e5STqaMp"
      },
      "source": [
        "#### Broadcasting\n"
      ]
    },
    {
      "cell_type": "code",
      "execution_count": 119,
      "metadata": {
        "id": "5Fm9Ue4dqaMp",
        "colab": {
          "base_uri": "https://localhost:8080/"
        },
        "outputId": "3c928968-6536-4e83-ca95-c4843415b2aa"
      },
      "outputs": [
        {
          "output_type": "execute_result",
          "data": {
            "text/plain": [
              "array([2, 7, 3])"
            ]
          },
          "metadata": {},
          "execution_count": 119
        }
      ],
      "source": [
        "a = np.array([0, 1, 2])\n",
        "b = np.array([2, 6, 1])\n",
        "a + b"
      ]
    },
    {
      "cell_type": "markdown",
      "metadata": {
        "id": "8eGn-GPsqaMq"
      },
      "source": [
        "El  `broadcasting` permite que estos tipos de operaciones binarias se realicen en matrices de diferentes tamaños; por ejemplo, podemos añadir  un escalar (una matriz de dimensión cero) a una matriz:"
      ]
    },
    {
      "cell_type": "code",
      "execution_count": 120,
      "metadata": {
        "id": "OEK6G1FPqaMq",
        "colab": {
          "base_uri": "https://localhost:8080/"
        },
        "outputId": "e91878d2-847e-4885-a44f-744355617e4b"
      },
      "outputs": [
        {
          "output_type": "execute_result",
          "data": {
            "text/plain": [
              "array([5, 6, 7])"
            ]
          },
          "metadata": {},
          "execution_count": 120
        }
      ],
      "source": [
        "a + 5\n"
      ]
    },
    {
      "cell_type": "markdown",
      "metadata": {
        "id": "9ejWt-p-qaMq"
      },
      "source": [
        "Podemos extender de manera similar esto a matrices de mayor dimensión. Veamos el resultado cuando agregamos una matriz unidimensional a una matriz bidimensional:"
      ]
    },
    {
      "cell_type": "code",
      "execution_count": 121,
      "metadata": {
        "id": "sWyguM0TqaMq",
        "colab": {
          "base_uri": "https://localhost:8080/"
        },
        "outputId": "8b555a25-78a8-49d4-b405-7494e4753cfe"
      },
      "outputs": [
        {
          "output_type": "execute_result",
          "data": {
            "text/plain": [
              "array([[ 0,  1,  2,  3],\n",
              "       [ 4,  5,  6,  7],\n",
              "       [ 8,  9, 10, 11],\n",
              "       [12, 13, 14, 15]])"
            ]
          },
          "metadata": {},
          "execution_count": 121
        }
      ],
      "source": [
        "A = np.arange(16).reshape(4, 4)\n",
        "b = np.arange(4)\n",
        "A"
      ]
    },
    {
      "cell_type": "code",
      "execution_count": 122,
      "metadata": {
        "id": "6s2ja74PqaMr",
        "colab": {
          "base_uri": "https://localhost:8080/"
        },
        "outputId": "362e0582-7a68-428c-f159-50356b88fd6f"
      },
      "outputs": [
        {
          "output_type": "execute_result",
          "data": {
            "text/plain": [
              "array([[ 0,  2,  4,  6],\n",
              "       [ 4,  6,  8, 10],\n",
              "       [ 8, 10, 12, 14],\n",
              "       [12, 14, 16, 18]])"
            ]
          },
          "metadata": {},
          "execution_count": 122
        }
      ],
      "source": [
        "A + b"
      ]
    },
    {
      "cell_type": "markdown",
      "metadata": {
        "id": "UZHfVQEAqaMr"
      },
      "source": [
        "Podemos aplicar el  `broadcasting` en dos matrices. Considere el siguiente ejemplo:"
      ]
    },
    {
      "cell_type": "code",
      "execution_count": 138,
      "metadata": {
        "id": "FgFkSWCRqaMr",
        "colab": {
          "base_uri": "https://localhost:8080/"
        },
        "outputId": "2dd931a0-c079-4191-b600-d050be47281c"
      },
      "outputs": [
        {
          "output_type": "execute_result",
          "data": {
            "text/plain": [
              "array([[0, 1, 2, 3, 4],\n",
              "       [5, 6, 7, 8, 9]])"
            ]
          },
          "metadata": {},
          "execution_count": 138
        }
      ],
      "source": [
        "p = np.arange(10).reshape(2, 5)\n",
        "q = np.arange(5)\n",
        "p"
      ]
    },
    {
      "cell_type": "code",
      "execution_count": 139,
      "metadata": {
        "id": "3BsOFYg_qaMr",
        "colab": {
          "base_uri": "https://localhost:8080/"
        },
        "outputId": "76f26dbd-6f32-483a-95f2-f33fb001122c"
      },
      "outputs": [
        {
          "output_type": "execute_result",
          "data": {
            "text/plain": [
              "array([[ 3,  4,  5,  6,  7],\n",
              "       [ 8,  9, 10, 11, 12]])"
            ]
          },
          "metadata": {},
          "execution_count": 139
        }
      ],
      "source": [
        "p+3"
      ]
    },
    {
      "cell_type": "code",
      "execution_count": 144,
      "metadata": {
        "id": "IF30FjFtqaMr",
        "colab": {
          "base_uri": "https://localhost:8080/"
        },
        "outputId": "bcf5f5d3-0847-4e5d-ad0a-638f4a5604b3"
      },
      "outputs": [
        {
          "output_type": "execute_result",
          "data": {
            "text/plain": [
              "array([0, 1, 2, 3, 4])"
            ]
          },
          "metadata": {},
          "execution_count": 144
        }
      ],
      "source": [
        "r= np.arange(20).reshape(4, 5)\n",
        "l = np.arange(5)\n",
        "l"
      ]
    },
    {
      "cell_type": "code",
      "source": [
        "l+r"
      ],
      "metadata": {
        "colab": {
          "base_uri": "https://localhost:8080/"
        },
        "id": "x71ID4JLPjL_",
        "outputId": "75d21c6a-2b25-4088-a4bd-993ed1ff80b5"
      },
      "execution_count": 145,
      "outputs": [
        {
          "output_type": "execute_result",
          "data": {
            "text/plain": [
              "array([[ 0,  2,  4,  6,  8],\n",
              "       [ 5,  7,  9, 11, 13],\n",
              "       [10, 12, 14, 16, 18],\n",
              "       [15, 17, 19, 21, 23]])"
            ]
          },
          "metadata": {},
          "execution_count": 145
        }
      ]
    },
    {
      "cell_type": "code",
      "execution_count": 146,
      "metadata": {
        "id": "hX8lxLr8qaMs",
        "colab": {
          "base_uri": "https://localhost:8080/"
        },
        "outputId": "87d7902b-ccec-487c-c390-123e542454f6"
      },
      "outputs": [
        {
          "output_type": "execute_result",
          "data": {
            "text/plain": [
              "array([[ 8,  9, 10, 11, 12],\n",
              "       [13, 14, 15, 16, 17],\n",
              "       [18, 19, 20, 21, 22],\n",
              "       [23, 24, 25, 26, 27]])"
            ]
          },
          "metadata": {},
          "execution_count": 146
        }
      ],
      "source": [
        "r+8"
      ]
    },
    {
      "cell_type": "markdown",
      "metadata": {
        "id": "44rabvtDqaMs"
      },
      "source": [
        "###  Regla del broadcasting\n",
        "\n",
        "El `broadcasting` en `NumPy` sigue un estricto conjunto de reglas para determinar la interacción entre dos matrices :\n",
        "\n",
        "* Regla 1: Si las dos matrices difieren en su número de dimensiones, la forma de la matriz que tiene menos dimensiones se rellena con unos en el lado principal (izquierdo).\n",
        "\n",
        "* Regla 2: Si la forma de los dos matrices no coincide con ninguna dimensión, la matriz con la forma igual a 1 en esa dimensión se estira para que coincida con la otra dimensión.\n",
        "\n",
        "* Regla 3: Si en cualquier dimensión los tamaños son distintos y ninguno es igual a 1, se genera un error."
      ]
    },
    {
      "cell_type": "markdown",
      "metadata": {
        "id": "cthhoMVUqaMs"
      },
      "source": [
        "### Un útil truco:"
      ]
    },
    {
      "cell_type": "code",
      "execution_count": null,
      "metadata": {
        "id": "TLkpSl3hqaMs"
      },
      "outputs": [],
      "source": [
        "J = np.arange(0, 40, 10)\n",
        "J.shape"
      ]
    },
    {
      "cell_type": "code",
      "execution_count": 124,
      "metadata": {
        "id": "KhXkyiTpqaMs",
        "colab": {
          "base_uri": "https://localhost:8080/"
        },
        "outputId": "e61748ef-2bd5-4c3c-fa48-421760003398"
      },
      "outputs": [
        {
          "output_type": "execute_result",
          "data": {
            "text/plain": [
              "(4, 1)"
            ]
          },
          "metadata": {},
          "execution_count": 124
        }
      ],
      "source": [
        "J = J[:, np.newaxis]  # agregamos un nuevo eje ->  matriz 2D\n",
        "J.shape"
      ]
    },
    {
      "cell_type": "code",
      "execution_count": 125,
      "metadata": {
        "id": "Zb16ZWGsqaMs",
        "colab": {
          "base_uri": "https://localhost:8080/"
        },
        "outputId": "5e99df65-71c2-42bc-c838-629a432795f2"
      },
      "outputs": [
        {
          "output_type": "execute_result",
          "data": {
            "text/plain": [
              "array([[ 0],\n",
              "       [10],\n",
              "       [20],\n",
              "       [30]])"
            ]
          },
          "metadata": {},
          "execution_count": 125
        }
      ],
      "source": [
        "J"
      ]
    },
    {
      "cell_type": "code",
      "execution_count": 126,
      "metadata": {
        "id": "ncQuGxd5qaMs",
        "colab": {
          "base_uri": "https://localhost:8080/"
        },
        "outputId": "cfa216ac-d496-4c22-e104-7b1e66e7cabc"
      },
      "outputs": [
        {
          "output_type": "execute_result",
          "data": {
            "text/plain": [
              "array([[ 3],\n",
              "       [13],\n",
              "       [23],\n",
              "       [33]])"
            ]
          },
          "metadata": {},
          "execution_count": 126
        }
      ],
      "source": [
        "J + 3"
      ]
    },
    {
      "cell_type": "markdown",
      "metadata": {
        "id": "1b5uLnfzqaMt"
      },
      "source": [
        "### Comparaciones, máscaras y lógica Booleana\n"
      ]
    },
    {
      "cell_type": "code",
      "execution_count": 127,
      "metadata": {
        "id": "MeYaAuW_qaMt",
        "colab": {
          "base_uri": "https://localhost:8080/"
        },
        "outputId": "cea977aa-0221-43cc-9ea5-f68e44431eef"
      },
      "outputs": [
        {
          "output_type": "execute_result",
          "data": {
            "text/plain": [
              "array([ True,  True, False, False])"
            ]
          },
          "metadata": {},
          "execution_count": 127
        }
      ],
      "source": [
        "a1 = np.array([1, 2, 3, 4])\n",
        "b1 = np.array([4, 3, 2, 1])\n",
        "a1 < b1"
      ]
    },
    {
      "cell_type": "code",
      "execution_count": 128,
      "metadata": {
        "id": "Aqhi445LqaMt",
        "colab": {
          "base_uri": "https://localhost:8080/"
        },
        "outputId": "4ecf0cdd-5a1c-4f1f-ee8d-10eb8bf36b10"
      },
      "outputs": [
        {
          "output_type": "execute_result",
          "data": {
            "text/plain": [
              "False"
            ]
          },
          "metadata": {},
          "execution_count": 128
        }
      ],
      "source": [
        "np.all(a1 < b1)"
      ]
    },
    {
      "cell_type": "code",
      "execution_count": 129,
      "metadata": {
        "id": "Mvvqq-tyqaMt",
        "colab": {
          "base_uri": "https://localhost:8080/"
        },
        "outputId": "7f5c79bd-45df-4b42-b650-1d135d54f6f1"
      },
      "outputs": [
        {
          "output_type": "execute_result",
          "data": {
            "text/plain": [
              "True"
            ]
          },
          "metadata": {},
          "execution_count": 129
        }
      ],
      "source": [
        "np.any(a1 < b1)"
      ]
    },
    {
      "cell_type": "code",
      "execution_count": 130,
      "metadata": {
        "id": "_hKNRIasqaMt",
        "colab": {
          "base_uri": "https://localhost:8080/"
        },
        "outputId": "f4e99128-8bb4-4ec2-af12-80a1a3d0fb86"
      },
      "outputs": [
        {
          "output_type": "stream",
          "name": "stdout",
          "text": [
            "Algunos elementos en a1 son menores que los elementos de b1\n"
          ]
        }
      ],
      "source": [
        "if np.all(a1 < b1):\n",
        "    print(\" Todos los elementos en a1 son menores que los elementos en b1 \")\n",
        "elif np.any(a1 < b1):\n",
        "    print(\"Algunos elementos en a1 son menores que los elementos de b1\")\n",
        "else:\n",
        "    print(\"Todos los elementos en b1 son menores que los elementos de a1\")"
      ]
    },
    {
      "cell_type": "markdown",
      "metadata": {
        "id": "2nLXUCapqaMt"
      },
      "source": [
        "Al aparecer en una expresión aritmética junto con un número escalar, u otra matriz `NumPy` con un tipo de datos numéricos, una matriz booleana se convierte en una matriz numérica con valores `0` y `1` en lugar de `False` y `True`, respectivamente."
      ]
    },
    {
      "cell_type": "code",
      "execution_count": 150,
      "metadata": {
        "id": "uHL9SWIVqaMu",
        "colab": {
          "base_uri": "https://localhost:8080/"
        },
        "outputId": "ca20a548-04a7-41ec-89a9-228dbe6cf3c0"
      },
      "outputs": [
        {
          "output_type": "stream",
          "name": "stdout",
          "text": [
            "[[1 0]\n",
            " [0 1]]\n"
          ]
        }
      ],
      "source": [
        "x = np.array([[True, False],\n",
        "              [False, True]])\n",
        "\n",
        "#Número escalar\n",
        "y = 1\n",
        "#operación aritmética entre x e y\n",
        "resultado = x * y\n",
        "print(resultado)"
      ]
    },
    {
      "cell_type": "code",
      "execution_count": 151,
      "metadata": {
        "id": "Zo0ypRZZqaMu",
        "colab": {
          "base_uri": "https://localhost:8080/"
        },
        "outputId": "5a115b65-fa80-4bfd-cb44-03a0dcc8f91e"
      },
      "outputs": [
        {
          "output_type": "stream",
          "name": "stdout",
          "text": [
            "[[ 0 -1]\n",
            " [-1  0]]\n"
          ]
        }
      ],
      "source": [
        "resultado = x - y\n",
        "print(resultado)"
      ]
    },
    {
      "cell_type": "code",
      "execution_count": 153,
      "metadata": {
        "id": "xKfdwvatqaMu",
        "colab": {
          "base_uri": "https://localhost:8080/"
        },
        "outputId": "0f41f247-ca14-4e4d-fcb2-8b21f33a7b48"
      },
      "outputs": [
        {
          "output_type": "stream",
          "name": "stdout",
          "text": [
            "[[1. 0.]\n",
            " [0. 1.]]\n"
          ]
        }
      ],
      "source": [
        "resultado = x / y\n",
        "print(resultado)"
      ]
    },
    {
      "cell_type": "markdown",
      "metadata": {
        "id": "tB_6ydqXqaMu"
      },
      "source": [
        "Esta es una propiedad útil para la computación condicional, como cuando se definen funciones."
      ]
    },
    {
      "cell_type": "code",
      "execution_count": 157,
      "metadata": {
        "id": "_ql1WHMbqaMu",
        "colab": {
          "base_uri": "https://localhost:8080/",
          "height": 430
        },
        "outputId": "b88f8aed-c3aa-4894-c27b-f738b8ccca82"
      },
      "outputs": [
        {
          "output_type": "display_data",
          "data": {
            "text/plain": [
              "<Figure size 640x480 with 1 Axes>"
            ],
            "image/png": "[encoded data removed]"
          },
          "metadata": {}
        }
      ],
      "source": [
        "import matplotlib.pyplot as plt\n",
        "def pulso(t, posicion, altura, ancho):\n",
        "  return altura * (t >= posicion) * (t <= (posicion + ancho))\n",
        "t = np.linspace(0, 10, 1000)\n",
        "y = pulso(t, posicion=3, altura=2, ancho=2)\n",
        "plt.plot(t, y)\n",
        "plt.show()"
      ]
    },
    {
      "cell_type": "markdown",
      "metadata": {
        "id": "VpGU0FGBqaMu"
      },
      "source": [
        "### Matrices booleanas como máscaras\n",
        "\n",
        "Revisar: [masked array](https://docs.scipy.org/doc/numpy/reference/maskedarray.html)."
      ]
    },
    {
      "cell_type": "code",
      "execution_count": 131,
      "metadata": {
        "id": "4PQgtpS4qaMu",
        "colab": {
          "base_uri": "https://localhost:8080/"
        },
        "outputId": "614cb6d2-1a70-4cab-95eb-359213833890"
      },
      "outputs": [
        {
          "output_type": "execute_result",
          "data": {
            "text/plain": [
              "array([False, False,  True, False, False,  True])"
            ]
          },
          "metadata": {},
          "execution_count": 131
        }
      ],
      "source": [
        "k = np.array([1, 3, -1, 5, 7, -1])\n",
        "mask = (k < 0)\n",
        "mask"
      ]
    },
    {
      "cell_type": "code",
      "execution_count": 161,
      "metadata": {
        "id": "KJ9jFSKuqaMv",
        "colab": {
          "base_uri": "https://localhost:8080/"
        },
        "outputId": "c8046022-9e92-4c4d-a220-b87c9a22ff7b"
      },
      "outputs": [
        {
          "output_type": "execute_result",
          "data": {
            "text/plain": [
              "array([[5, 0, 3, 3],\n",
              "       [7, 9, 3, 5],\n",
              "       [2, 4, 7, 6]])"
            ]
          },
          "metadata": {},
          "execution_count": 161
        }
      ],
      "source": [
        "# Un ejemplo bidimensional\n",
        "rng = np.random.RandomState(0)\n",
        "z1 = rng.randint(10, size=(3, 4))\n",
        "z1"
      ]
    },
    {
      "cell_type": "code",
      "execution_count": 166,
      "metadata": {
        "id": "NXAwAvs8qaMv",
        "colab": {
          "base_uri": "https://localhost:8080/"
        },
        "outputId": "de36c3b0-b5dd-4b97-e813-b83c666d7bc4"
      },
      "outputs": [
        {
          "output_type": "execute_result",
          "data": {
            "text/plain": [
              "array([[False, False, False, False],\n",
              "       [ True,  True, False, False],\n",
              "       [False, False,  True,  True]])"
            ]
          },
          "metadata": {},
          "execution_count": 166
        }
      ],
      "source": [
        "# Completar\n",
        "m=(z1>5)\n",
        "m"
      ]
    },
    {
      "cell_type": "markdown",
      "metadata": {
        "id": "IvBwaoXEqaMv"
      },
      "source": [
        "Ahora, para seleccionar estos valores de la matriz, podemos simplemente indexar en esta matriz booleana, esto se conoce como una operación de `enmascaramiento`:"
      ]
    },
    {
      "cell_type": "code",
      "execution_count": 167,
      "metadata": {
        "id": "osgH-qNWqaMv",
        "colab": {
          "base_uri": "https://localhost:8080/"
        },
        "outputId": "5cbc9ea1-c63b-4055-ed0a-3c8f02abd2ce"
      },
      "outputs": [
        {
          "output_type": "execute_result",
          "data": {
            "text/plain": [
              "array([7, 9, 7, 6])"
            ]
          },
          "metadata": {},
          "execution_count": 167
        }
      ],
      "source": [
        "selected= z1[m]\n",
        "selected"
      ]
    },
    {
      "cell_type": "markdown",
      "metadata": {
        "id": "J1tyYXNeqaMv"
      },
      "source": [
        "El siguiente ejemplo muestra cómo sumar la matriz de enmascaramiento,  donde `True` representa uno y `False` representa 0."
      ]
    },
    {
      "cell_type": "code",
      "execution_count": 168,
      "metadata": {
        "id": "aTqwfAtAqaMv",
        "colab": {
          "base_uri": "https://localhost:8080/"
        },
        "outputId": "0834b7f8-c5c6-4ef8-ab8c-02449963962a"
      },
      "outputs": [
        {
          "output_type": "execute_result",
          "data": {
            "text/plain": [
              "4"
            ]
          },
          "metadata": {},
          "execution_count": 168
        }
      ],
      "source": [
        "m_sum = np.sum(m)\n",
        "m_sum"
      ]
    },
    {
      "cell_type": "markdown",
      "metadata": {
        "id": "oqDn9SxmHRKr"
      },
      "source": [
        "### Lectura recomendada: [Numpy Reference](https://docs.scipy.org/doc/numpy/reference/)."
      ]
    },
    {
      "cell_type": "code",
      "execution_count": 15,
      "metadata": {
        "id": "ZstWnij4qaMw"
      },
      "outputs": [],
      "source": []
    }
  ],
  "metadata": {
    "colab": {
      "provenance": []
    },
    "kernelspec": {
      "display_name": "Python 3",
      "language": "python",
      "name": "python3"
    },
    "language_info": {
      "codemirror_mode": {
        "name": "ipython",
        "version": 3
      },
      "file_extension": ".py",
      "mimetype": "text/x-python",
      "name": "python",
      "nbconvert_exporter": "python",
      "pygments_lexer": "ipython3",
      "version": "3.7.10"
    }
  },
  "nbformat": 4,
  "nbformat_minor": 0
}